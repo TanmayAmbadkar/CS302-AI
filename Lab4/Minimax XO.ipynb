{
 "cells": [
  {
   "cell_type": "code",
   "execution_count": 1,
   "metadata": {},
   "outputs": [],
   "source": [
    "import numpy as np\n",
    "import time"
   ]
  },
  {
   "cell_type": "markdown",
   "metadata": {},
   "source": [
    "# Adversarial Search for multi-player games"
   ]
  },
  {
   "cell_type": "markdown",
   "metadata": {},
   "source": [
    "## Node\n",
    "The Node class greates the graph node. It has the following values\n",
    "1. State \n",
    "2. children - List of children\n",
    "3. score - value of node\n",
    "4. depth - depth of node in game tree\n",
    "5. maximiser - boolean value, whether node is a maximiser node or minimiser\n",
    "6. player - value of player, whether x or o\n",
    "7. best_child - best child of current node (Needed for finding path)\n",
    "\n",
    "It makes use of the following built in functions: \n",
    "1. \\_\\_hash\\_\\_ : This provides the hash value for every node, which is required for the hashset"
   ]
  },
  {
   "cell_type": "code",
   "execution_count": 2,
   "metadata": {},
   "outputs": [],
   "source": [
    "class Node():\n",
    "    \n",
    "    def __init__(self, state, depth, maximiser, player, parent=None,):\n",
    "        self.state = state\n",
    "        self.children = list()\n",
    "        self.score = 0\n",
    "        self.depth = depth\n",
    "        self.maximiser = maximiser\n",
    "        self.player = player\n",
    "        self.best_child = None\n",
    "        \n",
    "        if parent is not None:\n",
    "            parent.children.append(self)\n",
    "        \n",
    "    def __hash__(self):\n",
    "        \n",
    "        return hash(str(self.str))\n",
    "    \n",
    "    "
   ]
  },
  {
   "cell_type": "markdown",
   "metadata": {},
   "source": [
    "## Environment\n",
    "\n",
    "The environment is what the agent plays in. It has the following entities:\n",
    "1. goal_state : The goal state of the environment\n",
    "2. start_state : The start state generated at the depth\n",
    "\n",
    "It has the following functions: \n",
    "1. get_moves : returns all possible next moves from a given configuration\n",
    "2. check_terminal : checks whether all cells have been filled or not\n",
    "3. evalauate : returns the value for every state. +1 for win, -1 for lose and 0 for draw\n",
    "4. generate_start_state : Given goal state and depth d, performs d moves to generate a start state "
   ]
  },
  {
   "cell_type": "code",
   "execution_count": 3,
   "metadata": {},
   "outputs": [],
   "source": [
    "class Environment():\n",
    "    \n",
    "    def __init__(self, start_state=None):\n",
    "        \n",
    "        if start_state is None:\n",
    "            self.start_state = np.array([['.','.','.'],['.','.','.'],['.','.','.']])\n",
    "        else:\n",
    "            self.start_state = start_state\n",
    "    def get_moves(self, state, player):\n",
    "        \n",
    "        new_states = []\n",
    "        spaces = []\n",
    "        for i in range(3):\n",
    "            for j in range(3):\n",
    "                if state[i][j]=='.':\n",
    "                    new_state = state.copy()\n",
    "                    new_state[i,j] = player\n",
    "                    new_states.append(new_state)\n",
    "        \n",
    "        return new_states\n",
    "    \n",
    "    def check_terminal(self, state):\n",
    "        for i in range(3):\n",
    "            for j in range(3):\n",
    "                if state[i][j]=='.':\n",
    "                    return False\n",
    "        \n",
    "        return True\n",
    "    \n",
    "    def evaluate(self, state):\n",
    "        \n",
    "        for val in range(3):\n",
    "            if state[val,0] == state[val,1] == state[val,2]!='.':\n",
    "                if state[val, 0]=='x':\n",
    "                    return 1\n",
    "                else:\n",
    "                    return -1\n",
    "            \n",
    "            if state[0,val] == state[1,val] == state[2,val]!='.':\n",
    "                if state[0,val]=='x':\n",
    "                    return 1\n",
    "                else:\n",
    "                    return -1\n",
    "        \n",
    "        if state[0,0] == state[1,1] == state[2,2]!='.':\n",
    "            if state[0,0]=='x':\n",
    "                return 1\n",
    "            else:\n",
    "                return -1\n",
    "        \n",
    "        if state[0,2] == state[1,1] == state[2,0]!='.':\n",
    "            if state[0,2]=='x':\n",
    "                return 1\n",
    "            else:\n",
    "                return -1\n",
    "        \n",
    "        return 0\n",
    "\n",
    "    def get_start_state(self):\n",
    "        return self.start_state\n"
   ]
  },
  {
   "cell_type": "markdown",
   "metadata": {},
   "source": [
    "## Agent\n",
    "The agent is the player who plays the game against the environment to win. It has the following entities:\n",
    "1. env : Stores the environment\n",
    "2. start_state : Stores the start state\n",
    "3. root_node : Stores the root node of the tree\n",
    "4. maximiser : If root is a maximiser or minimiser\n",
    "5. player : If root player is x or o\n",
    "6. explored_nodes : Counts nodes explored in the tree\n",
    "\n",
    "The agent has the following functions: \n",
    "1. minimax() : Is the recursive function to evaluate the tree \n",
    "1. run(): Is the function that explores the environment and finds the goal node.\n",
    "2. print_nodes(): To print the path from the start node to goal node"
   ]
  },
  {
   "cell_type": "code",
   "execution_count": 26,
   "metadata": {},
   "outputs": [],
   "source": [
    "class Agent():\n",
    "    \n",
    "    def __init__(self, env, maximiser):\n",
    "        \n",
    "        self.env = env\n",
    "        self.start_state = env.get_start_state()\n",
    "        self.root_node = None\n",
    "        self.neginf = -10**18\n",
    "        self.posinf = 10**18\n",
    "        self.maximiser = maximiser\n",
    "        self.player = 'x' if maximiser else 'o';\n",
    "        self.explored_nodes = 0\n",
    "    \n",
    "    def minimax(self, node):\n",
    "        \n",
    "        self.explored_nodes+=1\n",
    "        score = self.env.evaluate(node.state)\n",
    "        if score!=0:\n",
    "            node.score = score\n",
    "            return node\n",
    "        \n",
    "        if self.env.check_terminal(node.state):\n",
    "            node.score = 0\n",
    "            return node\n",
    "        \n",
    "        if node.maximiser:\n",
    "            \n",
    "            best_score = self.neginf\n",
    "            best_depth = self.posinf\n",
    "            next_moves = self.env.get_moves(node.state, node.player)\n",
    "            for move in next_moves:\n",
    "                child = Node(state = move, depth=node.depth+1, \n",
    "                             maximiser=not node.maximiser, player='o', parent=node)\n",
    "                \n",
    "                child= self.minimax(child)\n",
    "                node.children.append(child)\n",
    "                \n",
    "                if best_score<child.score or (best_score==child.score and child.depth<best_depth):\n",
    "                    best_score = child.score\n",
    "                    best_depth = child.depth\n",
    "                    node.best_child = child\n",
    "            \n",
    "            node.depth = best_depth\n",
    "            node.score = best_score\n",
    "            \n",
    "            return node\n",
    "        \n",
    "        else:\n",
    "            best_score = self.posinf\n",
    "            best_depth = self.posinf\n",
    "            next_moves = self.env.get_moves(node.state, node.player)\n",
    "            \n",
    "            for move in next_moves:\n",
    "                child = Node(state = move, depth=node.depth+1, \n",
    "                             maximiser=not node.maximiser, player='x', parent=node)\n",
    "                \n",
    "                child = self.minimax(child)\n",
    "                node.children.append(child)\n",
    "                \n",
    "                if best_score>child.score  or (best_score==child.score and child.depth<best_depth):\n",
    "                    best_score = child.score\n",
    "                    best_depth = child.depth\n",
    "                    node.best_child = child\n",
    "            \n",
    "            node.depth = best_depth\n",
    "            node.score = best_score\n",
    "            \n",
    "            return node\n",
    "\n",
    "    def run(self):\n",
    "        \n",
    "        self.root_node = Node(state=self.start_state, depth=0, maximiser=self.maximiser,\n",
    "                             player=self.player, parent=None)\n",
    "        \n",
    "        self.root_node = self.minimax(node = self.root_node)\n",
    "        \n",
    "    def print_nodes(self):\n",
    "        \n",
    "        node = self.root_node\n",
    "        \n",
    "        while node is not None:\n",
    "            print(node.state)\n",
    "            node = node.best_child"
   ]
  },
  {
   "cell_type": "code",
   "execution_count": 30,
   "metadata": {},
   "outputs": [
    {
     "name": "stdout",
     "output_type": "stream",
     "text": [
      "Average time required: 14.361910724639893\n"
     ]
    }
   ],
   "source": [
    "t = 0\n",
    "for i in range(10):\n",
    "    start_state = np.array([['.','.','.'],['.','.','.'],['.','.','.']])\n",
    "    env = Environment(start_state = start_state)\n",
    "    agent = Agent(env, maximiser=True)\n",
    "    start_time = time.time()\n",
    "    agent.run()\n",
    "    end_time = time.time()\n",
    "    t += end_time-start_time\n",
    "print(\"Average time required:\", t/10)"
   ]
  },
  {
   "cell_type": "code",
   "execution_count": 16,
   "metadata": {},
   "outputs": [
    {
     "name": "stdout",
     "output_type": "stream",
     "text": [
      "[['.' '.' '.']\n",
      " ['.' '.' '.']\n",
      " ['.' '.' '.']]\n",
      "[['x' '.' '.']\n",
      " ['.' '.' '.']\n",
      " ['.' '.' '.']]\n",
      "[['x' '.' '.']\n",
      " ['.' 'o' '.']\n",
      " ['.' '.' '.']]\n",
      "[['x' 'x' '.']\n",
      " ['.' 'o' '.']\n",
      " ['.' '.' '.']]\n",
      "[['x' 'x' 'o']\n",
      " ['.' 'o' '.']\n",
      " ['.' '.' '.']]\n",
      "[['x' 'x' 'o']\n",
      " ['.' 'o' '.']\n",
      " ['x' '.' '.']]\n",
      "[['x' 'x' 'o']\n",
      " ['o' 'o' '.']\n",
      " ['x' '.' '.']]\n",
      "[['x' 'x' 'o']\n",
      " ['o' 'o' 'x']\n",
      " ['x' '.' '.']]\n",
      "[['x' 'x' 'o']\n",
      " ['o' 'o' 'x']\n",
      " ['x' 'o' '.']]\n",
      "[['x' 'x' 'o']\n",
      " ['o' 'o' 'x']\n",
      " ['x' 'o' 'x']]\n"
     ]
    }
   ],
   "source": [
    "agent.print_nodes()"
   ]
  },
  {
   "cell_type": "code",
   "execution_count": 17,
   "metadata": {},
   "outputs": [
    {
     "data": {
      "text/plain": [
       "549946"
      ]
     },
     "execution_count": 17,
     "metadata": {},
     "output_type": "execute_result"
    }
   ],
   "source": [
    "agent.explored_nodes"
   ]
  },
  {
   "cell_type": "markdown",
   "metadata": {},
   "source": [
    "## AlphaBetaAgent\n",
    "The agent is the player who plays the game against the environment to win. It has the following entities:\n",
    "1. env : Stores the environment\n",
    "2. start_state : Stores the start state\n",
    "3. root_node : Stores the root node of the tree\n",
    "4. maximiser : If root is a maximiser or minimiser\n",
    "5. player : If root player is x or o\n",
    "6. explored_nodes : Counts nodes explored in the tree\n",
    "\n",
    "The agent has the following functions: \n",
    "1. minimax() : Is the recursive function to evaluate the tree, passes extra parameters alpha and beta\n",
    "1. run(): Is the function that explores the environment and finds the goal node.\n",
    "2. print_nodes(): To print the path from the start node to goal node"
   ]
  },
  {
   "cell_type": "code",
   "execution_count": 8,
   "metadata": {},
   "outputs": [],
   "source": [
    "class AlphaBetaAgent():\n",
    "    \n",
    "    def __init__(self, env, maximiser):\n",
    "        \n",
    "        self.env = env\n",
    "        self.start_state = env.get_start_state()\n",
    "        self.root_node = None\n",
    "        self.neginf = -10**18\n",
    "        self.posinf = 10**18\n",
    "        self.maximiser = maximiser\n",
    "        self.player = 'x' if maximiser else 'o';\n",
    "        self.explored_nodes = 0\n",
    "    \n",
    "    \n",
    "    def minimax(self, node, alpha, beta):\n",
    "        \n",
    "        self.explored_nodes+=1\n",
    "        score = self.env.evaluate(node.state)\n",
    "        if score!=0:\n",
    "            node.score = score\n",
    "            return node\n",
    "        \n",
    "        if self.env.check_terminal(node.state):\n",
    "            node.score = 0\n",
    "            return node\n",
    "        \n",
    "        if node.maximiser:\n",
    "            \n",
    "            best_score = self.neginf\n",
    "            best_depth = self.posinf\n",
    "            next_moves = self.env.get_moves(node.state, node.player)\n",
    "            for move in next_moves:\n",
    "                child = Node(state = move, depth=node.depth+1, \n",
    "                             maximiser=not node.maximiser, player='o', parent=node)\n",
    "                \n",
    "                child= self.minimax(node = child, alpha=alpha, beta=beta)\n",
    "                node.children.append(child)\n",
    "                \n",
    "                if best_score<child.score or (best_score==child.score and child.depth<best_depth):\n",
    "                    best_score = child.score\n",
    "                    best_depth = child.depth\n",
    "                    node.best_child = child\n",
    "                \n",
    "                alpha = max(alpha, best_score)\n",
    "                if beta <= alpha:\n",
    "                    break\n",
    "            \n",
    "            node.depth = best_depth\n",
    "            node.score = best_score\n",
    "            \n",
    "            return node\n",
    "        \n",
    "        else:\n",
    "            best_score = self.posinf\n",
    "            best_depth = self.posinf\n",
    "            next_moves = self.env.get_moves(node.state, node.player)\n",
    "            \n",
    "            for move in next_moves:\n",
    "                child = Node(state = move, depth=node.depth+1, \n",
    "                             maximiser=not node.maximiser, player='x', parent=node)\n",
    "                \n",
    "                child = self.minimax(node = child, alpha=alpha, beta=beta)\n",
    "                node.children.append(child)\n",
    "                \n",
    "                if best_score>child.score  or (best_score==child.score and child.depth<best_depth):\n",
    "                    best_score = child.score\n",
    "                    best_depth = child.depth\n",
    "                    node.best_child = child\n",
    "                \n",
    "                beta = min(beta, best_score)\n",
    "                if beta<=alpha:\n",
    "                    break\n",
    "            \n",
    "            node.depth = best_depth\n",
    "            node.score = best_score\n",
    "            \n",
    "            return node\n",
    "\n",
    "    def run(self):\n",
    "        \n",
    "        self.root_node = Node(state=self.start_state, depth=0, maximiser=self.maximiser,\n",
    "                             player=self.player, parent=None)\n",
    "        \n",
    "        self.root_node = self.minimax(node = self.root_node, alpha = self.neginf, beta = self.posinf)\n",
    "        \n",
    "    def print_nodes(self):\n",
    "        \n",
    "        node = self.root_node\n",
    "        \n",
    "        while node is not None:\n",
    "            print(node.state)\n",
    "            node = node.best_child"
   ]
  },
  {
   "cell_type": "code",
   "execution_count": 9,
   "metadata": {},
   "outputs": [],
   "source": [
    "import time"
   ]
  },
  {
   "cell_type": "code",
   "execution_count": 29,
   "metadata": {},
   "outputs": [
    {
     "name": "stdout",
     "output_type": "stream",
     "text": [
      "Average time required: 0.45947678089141847\n"
     ]
    }
   ],
   "source": [
    "t = 0\n",
    "for i in range(10):\n",
    "    start_state = np.array([['.','.','.'],['.','.','.'],['.','.','.']])\n",
    "    env = Environment(start_state = start_state)\n",
    "    agent = AlphaBetaAgent(env, maximiser=True)\n",
    "    start_time = time.time()\n",
    "    agent.run()\n",
    "    end_time = time.time()\n",
    "    t += end_time-start_time\n",
    "print(\"Average time required:\", t/10)"
   ]
  },
  {
   "cell_type": "code",
   "execution_count": 13,
   "metadata": {},
   "outputs": [
    {
     "name": "stdout",
     "output_type": "stream",
     "text": [
      "[['.' '.' '.']\n",
      " ['.' '.' '.']\n",
      " ['.' '.' '.']]\n",
      "[['x' '.' '.']\n",
      " ['.' '.' '.']\n",
      " ['.' '.' '.']]\n",
      "[['x' '.' '.']\n",
      " ['.' 'o' '.']\n",
      " ['.' '.' '.']]\n",
      "[['x' 'x' '.']\n",
      " ['.' 'o' '.']\n",
      " ['.' '.' '.']]\n",
      "[['x' 'x' 'o']\n",
      " ['.' 'o' '.']\n",
      " ['.' '.' '.']]\n",
      "[['x' 'x' 'o']\n",
      " ['.' 'o' '.']\n",
      " ['x' '.' '.']]\n",
      "[['x' 'x' 'o']\n",
      " ['o' 'o' '.']\n",
      " ['x' '.' '.']]\n",
      "[['x' 'x' 'o']\n",
      " ['o' 'o' 'x']\n",
      " ['x' '.' '.']]\n",
      "[['x' 'x' 'o']\n",
      " ['o' 'o' 'x']\n",
      " ['x' 'o' '.']]\n",
      "[['x' 'x' 'o']\n",
      " ['o' 'o' 'x']\n",
      " ['x' 'o' 'x']]\n"
     ]
    }
   ],
   "source": [
    "agent.print_nodes()"
   ]
  },
  {
   "cell_type": "code",
   "execution_count": 14,
   "metadata": {},
   "outputs": [
    {
     "data": {
      "text/plain": [
       "18297"
      ]
     },
     "execution_count": 14,
     "metadata": {},
     "output_type": "execute_result"
    }
   ],
   "source": [
    "agent.explored_nodes"
   ]
  },
  {
   "cell_type": "code",
   "execution_count": null,
   "metadata": {},
   "outputs": [],
   "source": []
  }
 ],
 "metadata": {
  "kernelspec": {
   "display_name": "Python 3",
   "language": "python",
   "name": "python3"
  },
  "language_info": {
   "codemirror_mode": {
    "name": "ipython",
    "version": 3
   },
   "file_extension": ".py",
   "mimetype": "text/x-python",
   "name": "python",
   "nbconvert_exporter": "python",
   "pygments_lexer": "ipython3",
   "version": "3.8.5"
  }
 },
 "nbformat": 4,
 "nbformat_minor": 4
}
