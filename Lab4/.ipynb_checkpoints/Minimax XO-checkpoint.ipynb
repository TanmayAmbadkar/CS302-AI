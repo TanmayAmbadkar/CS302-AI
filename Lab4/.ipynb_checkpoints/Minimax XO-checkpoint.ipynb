{
 "cells": [
  {
   "cell_type": "code",
   "execution_count": 1,
   "metadata": {},
   "outputs": [],
   "source": [
    "import numpy as np"
   ]
  },
  {
   "cell_type": "code",
   "execution_count": 41,
   "metadata": {},
   "outputs": [],
   "source": [
    "class Node():\n",
    "    \n",
    "    def __init__(self, state, depth, maximiser, player, parent=None,):\n",
    "        self.state = state\n",
    "        self.children = list()\n",
    "        self.score = 0\n",
    "        self.depth = depth\n",
    "        self.maximiser = maximiser\n",
    "        self.player = player\n",
    "        self.best_child = None\n",
    "        \n",
    "        if parent is not None:\n",
    "            parent.children.append(self)\n",
    "        \n",
    "    def __hash__(self):\n",
    "        \n",
    "        return hash(str(self.str))\n",
    "    \n",
    "    "
   ]
  },
  {
   "cell_type": "code",
   "execution_count": 138,
   "metadata": {},
   "outputs": [],
   "source": [
    "class Environment():\n",
    "    \n",
    "    def __init__(self, start_state=None):\n",
    "        \n",
    "        if start_state is None:\n",
    "            self.start_state = np.array([['.','.','.'],['.','.','.'],['.','.','.']])\n",
    "        else:\n",
    "            self.start_state = start_state\n",
    "    def get_moves(self, state, player):\n",
    "        \n",
    "        new_states = []\n",
    "        spaces = []\n",
    "        for i in range(3):\n",
    "            for j in range(3):\n",
    "                if state[i][j]=='.':\n",
    "                    new_state = state.copy()\n",
    "                    new_state[i,j] = player\n",
    "                    new_states.append(new_state)\n",
    "        \n",
    "        return new_states\n",
    "    \n",
    "    def check_terminal(self, state):\n",
    "        for i in range(3):\n",
    "            for j in range(3):\n",
    "                if state[i][j]=='.':\n",
    "                    return False\n",
    "        \n",
    "        return True\n",
    "    \n",
    "    def evaluate(self, state):\n",
    "        \n",
    "        for val in range(3):\n",
    "            if state[val,0] == state[val,1] == state[val,2]!='.':\n",
    "                if state[val, 0]=='x':\n",
    "                    return 10\n",
    "                else:\n",
    "                    return -10\n",
    "            \n",
    "            if state[0,val] == state[1,val] == state[2,val]!='.':\n",
    "                if state[0,val]=='x':\n",
    "                    return 10\n",
    "                else:\n",
    "                    return -10\n",
    "        \n",
    "        if state[0,0] == state[1,1] == state[2,2]!='.':\n",
    "            if state[0,0]=='x':\n",
    "                return 10\n",
    "            else:\n",
    "                return -10\n",
    "        \n",
    "        if state[0,2] == state[1,1] == state[2,0]!='.':\n",
    "            if state[0,2]=='x':\n",
    "                return 10\n",
    "            else:\n",
    "                return -10\n",
    "        \n",
    "        return 0\n",
    "\n",
    "    def get_start_state(self):\n",
    "        return self.start_state\n"
   ]
  },
  {
   "cell_type": "code",
   "execution_count": 158,
   "metadata": {},
   "outputs": [],
   "source": [
    "class Agent():\n",
    "    \n",
    "    def __init__(self, env):\n",
    "        \n",
    "        self.env = env\n",
    "        self.start_state = env.get_start_state()\n",
    "        self.root_node = None\n",
    "        self.neginf = -10**18\n",
    "        self.posinf = 10**18\n",
    "    \n",
    "    \n",
    "    def minimax(self, node):\n",
    "        \n",
    "        score = self.env.evaluate(node.state)\n",
    "        if score!=0:\n",
    "            node.score = score\n",
    "            return node\n",
    "        \n",
    "        if self.env.check_terminal(node.state):\n",
    "            node.score = 0\n",
    "            return node\n",
    "        \n",
    "        if node.maximiser:\n",
    "            \n",
    "            best_score = self.neginf\n",
    "            best_depth = self.posinf\n",
    "            next_moves = self.env.get_moves(node.state, node.player)\n",
    "            for move in next_moves:\n",
    "                child = Node(state = move, depth=node.depth+1, \n",
    "                             maximiser=not node.maximiser, player='o', parent=node)\n",
    "                \n",
    "                child= self.minimax(child)\n",
    "                node.children.append(child)\n",
    "                \n",
    "                if best_score<child.score and child.depth<best_depth:\n",
    "                    best_score = child.score\n",
    "                    best_depth = child.depth\n",
    "                    node.best_child = child\n",
    "                    node.depth = best_depth\n",
    "                    node.score = best_score\n",
    "            \n",
    "            return node\n",
    "        \n",
    "        else:\n",
    "            best_score = self.posinf\n",
    "            best_depth = self.posinf\n",
    "            next_moves = self.env.get_moves(node.state, node.player)\n",
    "            \n",
    "            for move in next_moves:\n",
    "                child = Node(state = move, depth=node.depth+1, \n",
    "                             maximiser=not node.maximiser, player='x', parent=node)\n",
    "                \n",
    "                child = self.minimax(child)\n",
    "                node.children.append(child)\n",
    "                \n",
    "                \n",
    "                if best_score>child.score and child.depth<best_depth:\n",
    "                    best_score = child.score\n",
    "                    best_depth = child.depth\n",
    "                    node.best_child = child\n",
    "            \n",
    "            node.depth = best_depth\n",
    "            node.score = best_score\n",
    "            \n",
    "            return node\n",
    "\n",
    "    def run(self):\n",
    "        \n",
    "        self.root_node = Node(state=self.start_state, depth=0, maximiser=True,\n",
    "                             player='x', parent=None)\n",
    "        \n",
    "        self.root_node = self.minimax(self.root_node)\n",
    "        \n",
    "    def print_nodes(self):\n",
    "        \n",
    "        node = self.root_node\n",
    "        \n",
    "        while node is not None:\n",
    "            print(node.state)\n",
    "            node = node.best_child"
   ]
  },
  {
   "cell_type": "code",
   "execution_count": 159,
   "metadata": {},
   "outputs": [],
   "source": [
    "start_state = np.array([['o','x','o'],['.','x','.'],['.','.','.']])\n",
    "env = Environment(start_state = start_state)\n",
    "agent = Agent(env)\n",
    "agent.run()"
   ]
  },
  {
   "cell_type": "code",
   "execution_count": 160,
   "metadata": {},
   "outputs": [
    {
     "name": "stdout",
     "output_type": "stream",
     "text": [
      "[['o' 'x' 'o']\n",
      " ['.' 'x' '.']\n",
      " ['.' '.' '.']]\n",
      "[['o' 'x' 'o']\n",
      " ['x' 'x' '.']\n",
      " ['.' '.' '.']]\n",
      "[['o' 'x' 'o']\n",
      " ['x' 'x' 'o']\n",
      " ['.' '.' '.']]\n",
      "[['o' 'x' 'o']\n",
      " ['x' 'x' 'o']\n",
      " ['x' '.' '.']]\n",
      "[['o' 'x' 'o']\n",
      " ['x' 'x' 'o']\n",
      " ['x' '.' 'o']]\n"
     ]
    }
   ],
   "source": [
    "agent.print_nodes()"
   ]
  },
  {
   "cell_type": "code",
   "execution_count": 157,
   "metadata": {},
   "outputs": [
    {
     "name": "stdout",
     "output_type": "stream",
     "text": [
      "[['o' 'x' 'o']\n",
      " ['x' 'x' '.']\n",
      " ['.' '.' '.']] 4\n",
      "[['o' 'x' 'o']\n",
      " ['x' 'x' '.']\n",
      " ['.' '.' '.']] 4\n",
      "[['o' 'x' 'o']\n",
      " ['.' 'x' 'x']\n",
      " ['.' '.' '.']] 9\n",
      "[['o' 'x' 'o']\n",
      " ['.' 'x' 'x']\n",
      " ['.' '.' '.']] 9\n",
      "[['o' 'x' 'o']\n",
      " ['.' 'x' '.']\n",
      " ['x' '.' '.']] 8\n",
      "[['o' 'x' 'o']\n",
      " ['.' 'x' '.']\n",
      " ['x' '.' '.']] 8\n",
      "[['o' 'x' 'o']\n",
      " ['.' 'x' '.']\n",
      " ['.' 'x' '.']] 5\n",
      "[['o' 'x' 'o']\n",
      " ['.' 'x' '.']\n",
      " ['.' 'x' '.']] 5\n",
      "[['o' 'x' 'o']\n",
      " ['.' 'x' '.']\n",
      " ['.' '.' 'x']] 8\n",
      "[['o' 'x' 'o']\n",
      " ['.' 'x' '.']\n",
      " ['.' '.' 'x']] 8\n"
     ]
    }
   ],
   "source": [
    "for i in agent.root_node.children:\n",
    "    print(i.state, i.depth)"
   ]
  },
  {
   "cell_type": "code",
   "execution_count": 150,
   "metadata": {},
   "outputs": [
    {
     "data": {
      "text/plain": [
       "10"
      ]
     },
     "execution_count": 150,
     "metadata": {},
     "output_type": "execute_result"
    }
   ],
   "source": [
    "state = np.array([['o','x','o'],['.','x','.'],['.','x','.']])\n",
    "env.evaluate(state)"
   ]
  },
  {
   "cell_type": "code",
   "execution_count": null,
   "metadata": {},
   "outputs": [],
   "source": []
  }
 ],
 "metadata": {
  "kernelspec": {
   "display_name": "Python 3",
   "language": "python",
   "name": "python3"
  },
  "language_info": {
   "codemirror_mode": {
    "name": "ipython",
    "version": 3
   },
   "file_extension": ".py",
   "mimetype": "text/x-python",
   "name": "python",
   "nbconvert_exporter": "python",
   "pygments_lexer": "ipython3",
   "version": "3.7.7"
  }
 },
 "nbformat": 4,
 "nbformat_minor": 4
}
