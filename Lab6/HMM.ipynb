{
  "nbformat": 4,
  "nbformat_minor": 0,
  "metadata": {
    "kernelspec": {
      "display_name": "Python 3",
      "language": "python",
      "name": "python3"
    },
    "language_info": {
      "codemirror_mode": {
        "name": "ipython",
        "version": 3
      },
      "file_extension": ".py",
      "mimetype": "text/x-python",
      "name": "python",
      "nbconvert_exporter": "python",
      "pygments_lexer": "ipython3",
      "version": "3.7.4"
    },
    "colab": {
      "name": "HMM.ipynb",
      "provenance": [],
      "collapsed_sections": []
    }
  },
  "cells": [
    {
      "cell_type": "code",
      "metadata": {
        "id": "110bUd5y4-c-"
      },
      "source": [
        "import numpy as np\n",
        "import re\n",
        "from google.colab import drive"
      ],
      "execution_count": null,
      "outputs": []
    },
    {
      "cell_type": "code",
      "metadata": {
        "colab": {
          "base_uri": "https://localhost:8080/"
        },
        "id": "1P_fJfqh5KBi",
        "outputId": "83020a73-01d2-4bb4-b0c3-d7f24e74c40f"
      },
      "source": [
        "drive.mount(\"/content/drive\")"
      ],
      "execution_count": null,
      "outputs": [
        {
          "output_type": "stream",
          "text": [
            "Mounted at /content/drive\n"
          ],
          "name": "stdout"
        }
      ]
    },
    {
      "cell_type": "code",
      "metadata": {
        "id": "Jy8OC7fN4-dL"
      },
      "source": [
        "f = open(\"/content/drive/My Drive/book-war-and-peace.txt\")\n",
        "t = f.readlines()\n",
        "t = ''.join(t)"
      ],
      "execution_count": null,
      "outputs": []
    },
    {
      "cell_type": "code",
      "metadata": {
        "id": "7jIbuWFd4-dN"
      },
      "source": [
        "text = re.sub('[^a-zA-Z]', ' ', t)[:50000]\n",
        "text = text.lower()"
      ],
      "execution_count": null,
      "outputs": []
    },
    {
      "cell_type": "code",
      "metadata": {
        "id": "gxLb-diW4-dO"
      },
      "source": [
        "d = {}\n",
        "for i in range(0, 26):\n",
        "    d[chr(i+97)] = i\n",
        "d[' '] = 26"
      ],
      "execution_count": null,
      "outputs": []
    },
    {
      "cell_type": "code",
      "metadata": {
        "id": "IuIDahlO4-dO"
      },
      "source": [
        "V = np.zeros(50000)\n",
        "for i in range(len(text)):\n",
        "    V[i] = d[text[i]]"
      ],
      "execution_count": null,
      "outputs": []
    },
    {
      "cell_type": "code",
      "metadata": {
        "colab": {
          "base_uri": "https://localhost:8080/"
        },
        "id": "gzRRUbHP4-dP",
        "outputId": "cc0666b0-14d9-4f9d-e500-dffdb89862b8"
      },
      "source": [
        "V = V[0:100].astype(int)\n",
        "print(V)"
      ],
      "execution_count": null,
      "outputs": [
        {
          "output_type": "stream",
          "text": [
            "[ 2  7  0 15 19  4 17 26  8 26 26 26 22  4 11 11 26 26 15 17  8 13  2  4\n",
            " 26 26 18 14 26  6  4 13 14  0 26  0 13  3 26 11 20  2  2  0 26  0 17  4\n",
            " 26 13 14 22 26  9 20 18 19 26  5  0 12  8 11 24 26  4 18 19  0 19  4 18\n",
            " 26 14  5 26 19  7  4 26  1 20 14 13  0 15  0 17 19  4 18 26 26  1 20 19\n",
            " 26  8 26 22]\n"
          ],
          "name": "stdout"
        }
      ]
    },
    {
      "cell_type": "code",
      "metadata": {
        "colab": {
          "base_uri": "https://localhost:8080/"
        },
        "id": "DQIkNHMj4-dR",
        "outputId": "e0cd4003-5576-473f-d523-fda059b7f02a"
      },
      "source": [
        "a = np.array([[0.47468,0.52532],[0.51656,0.48344]])\n",
        "print(a)"
      ],
      "execution_count": null,
      "outputs": [
        {
          "output_type": "stream",
          "text": [
            "[[0.47468 0.52532]\n",
            " [0.51656 0.48344]]\n"
          ],
          "name": "stdout"
        }
      ]
    },
    {
      "cell_type": "code",
      "metadata": {
        "colab": {
          "base_uri": "https://localhost:8080/"
        },
        "id": "um_mT1h34-dS",
        "outputId": "ee85eddb-0385-4e44-c252-0c56b624af57"
      },
      "source": [
        "b = np.array([[0.03735,0.03909 ],\n",
        "[0.03408 ,0.03537 ],\n",
        "[0.03455 ,0.03537 ],\n",
        "[0.03828, 0.03909 ],\n",
        "[0.03782, 0.03583 ],\n",
        "[0.03922 ,0.03630 ],\n",
        "[0.03688, 0.04048 ],\n",
        "[0.03408, 0.03537 ],\n",
        "[0.03875 ,0.03816 ],\n",
        "[0.04062 ,0.03909 ],\n",
        "[0.03735 ,0.03490 ],\n",
        "[0.03968, 0.03723 ],\n",
        "[0.03548 ,0.03537 ],\n",
        "[0.03735 ,0.03909 ],\n",
        "[0.04062, 0.03397 ],\n",
        "[0.03595, 0.03397 ],\n",
        "[0.03641, 0.03816 ],\n",
        "[0.03408, 0.03676 ],\n",
        "[0.04062 ,0.04048 ],\n",
        "[0.03548, 0.03443 ],\n",
        "[0.03922, 0.03537 ],\n",
        "[0.04062 ,0.03955], \n",
        "[0.03455, 0.03816 ],\n",
        "[0.03595, 0.03723 ],\n",
        "[0.03408,0.03769 ],\n",
        "[0.03408 ,0.03955 ],\n",
        "[0.03688, 0.03397 ]])\n",
        "b = b.T\n",
        "print(b.shape)"
      ],
      "execution_count": null,
      "outputs": [
        {
          "output_type": "stream",
          "text": [
            "(2, 27)\n"
          ],
          "name": "stdout"
        }
      ]
    },
    {
      "cell_type": "code",
      "metadata": {
        "colab": {
          "base_uri": "https://localhost:8080/"
        },
        "id": "T4X9kVvc4-dT",
        "outputId": "fe442832-9eab-4481-89df-d2a99fe42bb2"
      },
      "source": [
        "pi = np.array([ 0.51316,0.48684])\n",
        "print(pi[0],pi[1])"
      ],
      "execution_count": null,
      "outputs": [
        {
          "output_type": "stream",
          "text": [
            "0.51316 0.48684\n"
          ],
          "name": "stdout"
        }
      ]
    },
    {
      "cell_type": "code",
      "metadata": {
        "colab": {
          "base_uri": "https://localhost:8080/"
        },
        "id": "q1f4VNFM4-dT",
        "outputId": "dc675202-a540-4d25-c8b9-9047c30d9a36"
      },
      "source": [
        "print(V.shape)\n",
        "print(a.shape)\n",
        "print(b.shape)\n",
        "print(V.shape[0], a.shape[0])"
      ],
      "execution_count": null,
      "outputs": [
        {
          "output_type": "stream",
          "text": [
            "(100,)\n",
            "(2, 2)\n",
            "(2, 27)\n",
            "100 2\n"
          ],
          "name": "stdout"
        }
      ]
    },
    {
      "cell_type": "code",
      "metadata": {
        "id": "XU3gAfkq4-dU"
      },
      "source": [
        "N = 2\n",
        "M = 27\n",
        "MaxIters = 100\n",
        "iters = 0\n",
        "import math\n",
        "oldLogProb = -math.inf"
      ],
      "execution_count": null,
      "outputs": []
    },
    {
      "cell_type": "code",
      "metadata": {
        "colab": {
          "base_uri": "https://localhost:8080/"
        },
        "id": "8I94MAux4-dU",
        "outputId": "8eed4ead-6848-478a-e0e4-df92afb7378c"
      },
      "source": [
        "T = len(V)  \n",
        "print(T)"
      ],
      "execution_count": null,
      "outputs": [
        {
          "output_type": "stream",
          "text": [
            "100\n"
          ],
          "name": "stdout"
        }
      ]
    },
    {
      "cell_type": "code",
      "metadata": {
        "id": "y_S77UAe4-dU"
      },
      "source": [
        "def War_peace(a,b,V,pi,N,M,T,oldLogProb):\n",
        "# Alpha pass\n",
        "    c = np.zeros([T, 1])\n",
        "    alpha = np.zeros([T,N])\n",
        "\n",
        "    for i in range(N):\n",
        "        alpha[0][i] = pi[i]*b[i][V[0]]\n",
        "        c[0][0] = c[0][0]+alpha[0][i]\n",
        "    c[0][0] = 1/c[0][0] \n",
        "\n",
        "    for i in range(N):\n",
        "        alpha[0][i] = c[0][0]*alpha[0][i]\n",
        "\n",
        "    for t in range(1,T):\n",
        "        c[t][0] = 0\n",
        "        for i in range(N):\n",
        "            alpha[t][i]=0\n",
        "            for j in range(N):\n",
        "                alpha[t][i] = alpha[t][i]+ alpha[t-1][i]*a[j][i]\n",
        "            alpha[t][i] = alpha[t][i]*b[i][V[t]]\n",
        "            c[t][0] = c[t][0] + alpha[t][i]        \n",
        "\n",
        "\n",
        "        c[t][0] = 1/ c[t][0]\n",
        "\n",
        "\n",
        "        for i in range(N):\n",
        "            alpha[t][i] = c[t][0]*alpha[t][i]\n",
        "\n",
        "    # print(c)\n",
        "    beta = np.zeros([T,N])\n",
        "    for i in range(N):\n",
        "        beta[T-1][i] = c[T-1][0]\n",
        "\n",
        "    for t in range(T-2,-1,-1):\n",
        "        for i in range(N):\n",
        "            beta[t][i] = 0\n",
        "            for j in range(N):\n",
        "                beta[t][i] = beta[t][i]+ a[i][j]*b[j][V[t+1]]*beta[t+1][j]\n",
        "            beta[t][i] = c[t][0]*beta[t][i]\n",
        "\n",
        "                  \n",
        "\n",
        "    digamma=  np.zeros([T,N,N])\n",
        "    gamma =  np.zeros([T,N])\n",
        "    for t in range(T-1):\n",
        "        for i in range(N):\n",
        "            gamma[t][i]=0\n",
        "            for j in range(N):\n",
        "                digamma[t][i][j] = alpha[t][i]*a[i][j]*b[j][V[t+1]]*beta[t+1][j]\n",
        "                gamma[t][i] = gamma[t][i]+digamma[t][i][j]  \n",
        "\n",
        "\n",
        "    for i in range(N):\n",
        "         gamma[T-1][i]= alpha[T-1][i]\n",
        "    # print(gamma)\n",
        "    # re-estimate π\n",
        "    for i in range(N):\n",
        "        pi[i] = gamma[0][i]\n",
        "    #re-estimate A\n",
        "    for i in range(N):\n",
        "        denom = 0\n",
        "        for t in range(T-1):\n",
        "            denom = denom + gamma[t][i]\n",
        "        for j in range(N):\n",
        "            numer = 0\n",
        "            for t in range(T-1):\n",
        "                numer = numer + digamma[t][i][j]\n",
        "            a[i][j] = numer/denom\n",
        "\n",
        "    #re-estimate B\n",
        "    for i in range(N):\n",
        "        denom = 0\n",
        "        for t in range(T):\n",
        "            denom = denom + gamma[t][i]\n",
        "        for j in range(M):\n",
        "            numer = 0\n",
        "            for t in range(T):\n",
        "                if (V[t]==j):\n",
        "                    numer = numer + gamma[t][i]\n",
        "            b[i][j] = numer/denom\n",
        "    import math\n",
        "    logprob = 0\n",
        "    for i in range(T):\n",
        "        logprob = logprob + math.log(c[i][0])\n",
        "    logprob = -1*logprob\n",
        "    \n",
        "    if logprob>oldLogProb:\n",
        "        oldLogProb = logprob\n",
        "#             War_peace(a,b,V,pi,N,M,T,oldLogProb)\n",
        "            \n",
        "       \n",
        "    return a,b,pi,oldLogProb\n",
        "\n",
        "\n",
        "\n",
        "\n"
      ],
      "execution_count": null,
      "outputs": []
    },
    {
      "cell_type": "code",
      "metadata": {
        "id": "ThrDItVk4-dW"
      },
      "source": [
        ""
      ],
      "execution_count": null,
      "outputs": []
    },
    {
      "cell_type": "code",
      "metadata": {
        "colab": {
          "base_uri": "https://localhost:8080/"
        },
        "id": "9pULOWwW4-dW",
        "outputId": "0834dc6f-8818-4d77-9639-336d714b1077"
      },
      "source": [
        "A,B,pie,P = War_peace(a,b,V,pi,N,M,T,oldLogProb)\n",
        "for i in range(5):\n",
        "    A,B,pie,P =  War_peace(A,B,V,pie,N,M,T,P)\n",
        "    \n",
        "\n",
        "\n",
        "print('A',A)\n",
        "print('B',B)\n",
        "print('PI',pie)\n",
        "print(\"log(p(0/lamda))\",P)\n"
      ],
      "execution_count": null,
      "outputs": [
        {
          "output_type": "stream",
          "text": [
            "A [[0.01734974 0.98265026]\n",
            " [0.56146022 0.43853978]]\n",
            "B [[1.67586753e-002 9.86942861e-035 9.60492341e-001 2.79661012e-018\n",
            "  6.53789347e-007 2.53096469e-019 4.89623116e-018 2.26526483e-002\n",
            "  4.64694128e-011 6.48108851e-019 0.00000000e+000 1.67394042e-011\n",
            "  2.99003392e-019 8.94369829e-018 5.58184995e-018 9.03032866e-005\n",
            "  0.00000000e+000 4.26494542e-008 4.83577164e-018 5.29712552e-006\n",
            "  9.22540628e-018 0.00000000e+000 3.75688832e-011 0.00000000e+000\n",
            "  1.21482589e-021 0.00000000e+000 3.79498347e-008]\n",
            " [1.63056977e-003 2.10925637e-131 7.19823344e-004 1.18127030e-034\n",
            "  1.04803982e-001 5.37227537e-095 7.53118434e-017 1.27789253e-003\n",
            "  1.98635605e-001 7.93809263e-068 0.00000000e+000 3.39570713e-002\n",
            "  7.04884818e-104 4.78935490e-004 7.19084006e-012 2.52627956e-002\n",
            "  0.00000000e+000 8.29955085e-002 5.97264830e-008 8.08691571e-003\n",
            "  8.17655549e-047 0.00000000e+000 4.08900114e-002 0.00000000e+000\n",
            "  8.59924570e-111 0.00000000e+000 5.01260830e-001]]\n",
            "PI [1.23020247e+48 5.11115425e+47]\n",
            "log(p(0/lamda)) -272.8194023891848\n"
          ],
          "name": "stdout"
        }
      ]
    },
    {
      "cell_type": "code",
      "metadata": {
        "id": "HmTVAN7-gJMx",
        "colab": {
          "base_uri": "https://localhost:8080/"
        },
        "outputId": "98af9cd3-c015-4a23-ec75-1a1c37dfa584"
      },
      "source": [
        "A,B,pie,P = War_peace(a,b,V,pi,N,M,T,oldLogProb)\n",
        "for i in range(5):\n",
        "    A,B,pie,P =  War_peace(A,B,V,pie,N,M,T,P)\n",
        "    \n",
        "\n",
        "\n",
        "print('A',A)\n",
        "print('B',B)\n",
        "print('PI',pie)\n",
        "print(\"log(p(0/lamda))\",P)\n"
      ],
      "execution_count": null,
      "outputs": [
        {
          "output_type": "stream",
          "text": [
            "A [[nan nan]\n",
            " [nan nan]]\n",
            "B [[nan nan nan nan nan nan nan nan nan nan nan nan nan nan nan nan nan nan\n",
            "  nan nan nan nan nan nan nan nan nan]\n",
            " [nan nan nan nan nan nan nan nan nan nan nan nan nan nan nan nan nan nan\n",
            "  nan nan nan nan nan nan nan nan nan]]\n",
            "PI [nan nan]\n",
            "log(p(0/lamda)) -2162.7708036739004\n"
          ],
          "name": "stdout"
        },
        {
          "output_type": "stream",
          "text": [
            "/usr/local/lib/python3.7/dist-packages/ipykernel_launcher.py:40: RuntimeWarning: overflow encountered in double_scalars\n",
            "/usr/local/lib/python3.7/dist-packages/ipykernel_launcher.py:50: RuntimeWarning: invalid value encountered in double_scalars\n",
            "/usr/local/lib/python3.7/dist-packages/ipykernel_launcher.py:69: RuntimeWarning: invalid value encountered in double_scalars\n",
            "/usr/local/lib/python3.7/dist-packages/ipykernel_launcher.py:81: RuntimeWarning: invalid value encountered in double_scalars\n"
          ],
          "name": "stderr"
        }
      ]
    }
  ]
}