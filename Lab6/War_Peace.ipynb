{
 "cells": [
  {
   "cell_type": "code",
   "execution_count": 45,
   "metadata": {},
   "outputs": [],
   "source": [
    "import numpy as np\n",
    "import re"
   ]
  },
  {
   "cell_type": "code",
   "execution_count": 46,
   "metadata": {},
   "outputs": [],
   "source": [
    "f = open(\"book-war-and-peace.txt\")\n",
    "t = f.readlines()\n",
    "t = ''.join(t)"
   ]
  },
  {
   "cell_type": "code",
   "execution_count": 47,
   "metadata": {},
   "outputs": [],
   "source": [
    "text = re.sub('[^a-zA-Z]', ' ', t)[:50000]\n",
    "text = text.lower()"
   ]
  },
  {
   "cell_type": "code",
   "execution_count": 48,
   "metadata": {},
   "outputs": [],
   "source": [
    "d = {}\n",
    "for i in range(0, 26):\n",
    "    d[chr(i+97)] = i\n",
    "d[' '] = 26"
   ]
  },
  {
   "cell_type": "code",
   "execution_count": 49,
   "metadata": {},
   "outputs": [],
   "source": [
    "V = np.zeros(50000)\n",
    "for i in range(len(text)):\n",
    "    V[i] = d[text[i]]"
   ]
  },
  {
   "cell_type": "code",
   "execution_count": 50,
   "metadata": {},
   "outputs": [
    {
     "name": "stdout",
     "output_type": "stream",
     "text": [
      "[ 2  7  0 ...  8 13  6]\n"
     ]
    }
   ],
   "source": [
    "V = V.astype(int)\n",
    "print(V)"
   ]
  },
  {
   "cell_type": "code",
   "execution_count": 51,
   "metadata": {},
   "outputs": [
    {
     "name": "stdout",
     "output_type": "stream",
     "text": [
      "[[0.47468 0.52532]\n",
      " [0.51656 0.48344]]\n"
     ]
    }
   ],
   "source": [
    "# Transition Probabilities\n",
    "a = np.array([[0.47468,0.52532],[0.51656,0.48344]])\n",
    "print(a)"
   ]
  },
  {
   "cell_type": "code",
   "execution_count": 52,
   "metadata": {},
   "outputs": [
    {
     "name": "stdout",
     "output_type": "stream",
     "text": [
      "(2, 27)\n"
     ]
    }
   ],
   "source": [
    "b = np.array([[0.03735,0.03909 ],\n",
    "[0.03408 ,0.03537 ],\n",
    "[0.03455 ,0.03537 ],\n",
    "[0.03828, 0.03909 ],\n",
    "[0.03782, 0.03583 ],\n",
    "[0.03922 ,0.03630 ],\n",
    "[0.03688, 0.04048 ],\n",
    "[0.03408, 0.03537 ],\n",
    "[0.03875 ,0.03816 ],\n",
    "[0.04062 ,0.03909 ],\n",
    "[0.03735 ,0.03490 ],\n",
    "[0.03968, 0.03723 ],\n",
    "[0.03548 ,0.03537 ],\n",
    "[0.03735 ,0.03909 ],\n",
    "[0.04062, 0.03397 ],\n",
    "[0.03595, 0.03397 ],\n",
    "[0.03641, 0.03816 ],\n",
    "[0.03408, 0.03676 ],\n",
    "[0.04062 ,0.04048 ],\n",
    "[0.03548, 0.03443 ],\n",
    "[0.03922, 0.03537 ],\n",
    "[0.04062 ,0.03955], \n",
    "[0.03455, 0.03816 ],\n",
    "[0.03595, 0.03723 ],\n",
    "[0.03408,0.03769 ],\n",
    "[0.03408 ,0.03955 ],\n",
    "[0.03688, 0.03397 ]])\n",
    "b = b.T\n",
    "print(b.shape)"
   ]
  },
  {
   "cell_type": "code",
   "execution_count": 53,
   "metadata": {},
   "outputs": [
    {
     "name": "stdout",
     "output_type": "stream",
     "text": [
      "[0.51316 0.48684]\n"
     ]
    }
   ],
   "source": [
    "# Equal Probabilities for the initial distribution\n",
    "initial_distribution = np.array([0.51316,0.48684])\n",
    "print(initial_distribution)"
   ]
  },
  {
   "cell_type": "code",
   "execution_count": 54,
   "metadata": {},
   "outputs": [],
   "source": [
    "from BaumWelch import baum_welch"
   ]
  },
  {
   "cell_type": "code",
   "execution_count": 55,
   "metadata": {},
   "outputs": [
    {
     "name": "stdout",
     "output_type": "stream",
     "text": [
      "(50000,)\n",
      "(2, 2)\n",
      "(2, 27)\n",
      "50000 2\n"
     ]
    }
   ],
   "source": [
    "print(V.shape)\n",
    "print(a.shape)\n",
    "print(b.shape)\n",
    "print(V.shape[0], a.shape[0])"
   ]
  },
  {
   "cell_type": "code",
   "execution_count": 58,
   "metadata": {},
   "outputs": [
    {
     "name": "stdout",
     "output_type": "stream",
     "text": [
      "{'a': array([[nan, nan],\n",
      "       [nan, nan]]), 'b': array([[nan, nan, nan, nan, nan, nan, nan, nan, nan, nan, nan, nan, nan,\n",
      "        nan, nan, nan, nan, nan, nan, nan, nan, nan, nan, nan, nan, nan,\n",
      "        nan],\n",
      "       [nan, nan, nan, nan, nan, nan, nan, nan, nan, nan, nan, nan, nan,\n",
      "        nan, nan, nan, nan, nan, nan, nan, nan, nan, nan, nan, nan, nan,\n",
      "        nan]])}\n"
     ]
    }
   ],
   "source": [
    "print(baum_welch(V, a, b, initial_distribution, n_iter=2))"
   ]
  },
  {
   "cell_type": "code",
   "execution_count": null,
   "metadata": {},
   "outputs": [],
   "source": []
  }
 ],
 "metadata": {
  "kernelspec": {
   "display_name": "Python 3",
   "language": "python",
   "name": "python3"
  },
  "language_info": {
   "codemirror_mode": {
    "name": "ipython",
    "version": 3
   },
   "file_extension": ".py",
   "mimetype": "text/x-python",
   "name": "python",
   "nbconvert_exporter": "python",
   "pygments_lexer": "ipython3",
   "version": "3.7.4"
  }
 },
 "nbformat": 4,
 "nbformat_minor": 4
}
