{
 "cells": [
  {
   "cell_type": "code",
   "execution_count": 120,
   "metadata": {},
   "outputs": [],
   "source": [
    "from string import ascii_lowercase\n",
    "import random\n",
    "from itertools import combinations\n",
    "import numpy as np"
   ]
  },
  {
   "cell_type": "code",
   "execution_count": 121,
   "metadata": {},
   "outputs": [],
   "source": [
    "def creatproblem(n,k,m):\n",
    "        positive_var = list(ascii_lowercase)[:n]\n",
    "        negative_var = [var.upper() for var in positive_var]\n",
    "        variables = positive_var + negative_var\n",
    "        problem = []\n",
    "        threshold = 10       \n",
    "        i = 0\n",
    "        comb = list(combinations(variables,k))\n",
    "        \n",
    "        while i<threshold:\n",
    "            c = random.sample(comb,m)\n",
    "            if c not in problem:\n",
    "                problem.append(c)\n",
    "                i += 1\n",
    "        \n",
    "        problems_new = []\n",
    "        for c in problem:\n",
    "            temp = []\n",
    "            temp = [list(sub) for sub in c]\n",
    "            problems_new.append(temp)\n",
    "        return  variables,problems_new \n",
    "     \n",
    "    \n",
    " \n",
    "        "
   ]
  },
  {
   "cell_type": "code",
   "execution_count": 122,
   "metadata": {},
   "outputs": [],
   "source": [
    "def random_assign(variables,n):\n",
    "    litral = list(np.random.choice(2,n))\n",
    "    negation = [abs(i-1) for i in litral]\n",
    "    assign = litral + negation\n",
    "    return dict(zip(variables,assign))"
   ]
  },
  {
   "cell_type": "code",
   "execution_count": 123,
   "metadata": {},
   "outputs": [],
   "source": [
    "def heruistic(problem,assign):\n",
    "    count = 0\n",
    "    for sub in problem:       \n",
    "        encode = [assign[val] for val in sub]\n",
    "        count += any(encode)\n",
    "    return count    \n",
    "    \n",
    "    "
   ]
  },
  {
   "cell_type": "code",
   "execution_count": 145,
   "metadata": {},
   "outputs": [],
   "source": [
    "def next_node(current):\n",
    "    key = list(current.keys())\n",
    "    key.sort()\n",
    "    key = key[0:len(key)//2]\n",
    "#     print(key)\n",
    "    successors = []\n",
    "    for k in key:\n",
    "        temp = current.copy()\n",
    "        temp[k] = abs(temp[k]-1)\n",
    "        temp[chr(ord(k)+32)] = abs(temp[chr(ord(k)+32)]-1)\n",
    "        successors.append(temp)  \n",
    "    \n",
    "#     curr_val = list(current.values())\n",
    "#     successors_val = []\n",
    "#     successors = []\n",
    "#     i = 0\n",
    "# #     while i< len(curr_val):\n",
    "# #         temp = curr_val.copy()\n",
    "# #         temp[i] = abs(temp[i]-1)\n",
    "# #         successors_val.append(temp)                \n",
    "# # #         i += 1\n",
    "#     for val in successors_val:\n",
    "#         successors.append(dict(zip(key,val)))\n",
    "    \n",
    "    return successors\n",
    "    "
   ]
  },
  {
   "cell_type": "code",
   "execution_count": 125,
   "metadata": {},
   "outputs": [
    {
     "name": "stdout",
     "output_type": "stream",
     "text": [
      "['A', 'B', 'C']\n",
      "[{'a': 1, 'b': 0, 'c': 0, 'A': 0, 'B': 1, 'C': 1}, {'a': 0, 'b': 1, 'c': 0, 'A': 1, 'B': 0, 'C': 1}, {'a': 0, 'b': 0, 'c': 1, 'A': 1, 'B': 1, 'C': 0}]\n"
     ]
    }
   ],
   "source": [
    "print(next_node({'a': 0, 'b': 0, 'c': 0, 'A': 1, 'B': 1, 'C': 1}))"
   ]
  },
  {
   "cell_type": "code",
   "execution_count": 126,
   "metadata": {},
   "outputs": [],
   "source": [
    "def select_node(succs,problem):\n",
    "    heruistic_val = []\n",
    "    for i in succs:\n",
    "        heruistic_val.append(heruistic(problem,i))\n",
    "    index = heruistic_val.index(max(heruistic_val))\n",
    "    return succs[index]"
   ]
  },
  {
   "cell_type": "code",
   "execution_count": 127,
   "metadata": {},
   "outputs": [],
   "source": [
    "def check_goal_state(state,problem):\n",
    "    count = 0\n",
    "    for sub in problem:       \n",
    "        encode = [state[val] for val in sub]\n",
    "        count += any(encode)\n",
    "    return len(problem) == count"
   ]
  },
  {
   "cell_type": "code",
   "execution_count": 128,
   "metadata": {},
   "outputs": [],
   "source": [
    "def hill_climbing(current_state,problem,step):\n",
    "    if step == 10000:\n",
    "        print('halted at depth',step)\n",
    "        return\n",
    "    if check_goal_state(current_state,problem)==True:\n",
    "        print(current_state,step)\n",
    "        return \n",
    "    else:\n",
    "        step += 1\n",
    "        successor = next_node(current_state)\n",
    "        new_node = select_node(successor,problem)\n",
    "        hill_climbing(new_node,problem,step)"
   ]
  },
  {
   "cell_type": "code",
   "execution_count": 142,
   "metadata": {},
   "outputs": [
    {
     "name": "stdout",
     "output_type": "stream",
     "text": [
      "['a', 'b', 'c', 'd', 'e', 'f', 'g', 'h', 'i', 'j', 'A', 'B', 'C', 'D', 'E', 'F', 'G', 'H', 'I', 'J']\n",
      "[['B', 'F'], ['C', 'E'], ['a', 'J'], ['i', 'C'], ['e', 'E'], ['h', 'E'], ['h', 'j'], ['f', 'J'], ['h', 'F'], ['B', 'G']]\n",
      "[['h', 'j'], ['h', 'G'], ['a', 'i'], ['A', 'E'], ['b', 'i'], ['j', 'A'], ['i', 'F'], ['b', 'j'], ['f', 'F'], ['a', 'D']]\n",
      "[['C', 'E'], ['h', 'F'], ['e', 'F'], ['a', 'j'], ['a', 'H'], ['a', 'A'], ['d', 'C'], ['h', 'A'], ['f', 'H'], ['b', 'h']]\n",
      "[['G', 'H'], ['B', 'G'], ['e', 'E'], ['a', 'h'], ['d', 'J'], ['b', 'A'], ['b', 'j'], ['e', 'g'], ['b', 'H'], ['A', 'G']]\n",
      "[['h', 'i'], ['h', 'A'], ['E', 'I'], ['e', 'H'], ['H', 'I'], ['d', 'A'], ['d', 'J'], ['f', 'h'], ['h', 'B'], ['d', 'e']]\n",
      "[['i', 'G'], ['g', 'I'], ['c', 'G'], ['C', 'F'], ['E', 'J'], ['A', 'G'], ['B', 'H'], ['d', 'E'], ['a', 'e'], ['I', 'J']]\n",
      "[['g', 'I'], ['i', 'J'], ['j', 'I'], ['G', 'H'], ['E', 'H'], ['i', 'D'], ['d', 'C'], ['a', 'b'], ['a', 'h'], ['C', 'J']]\n",
      "[['c', 'j'], ['e', 'f'], ['a', 'h'], ['i', 'H'], ['e', 'j'], ['b', 'D'], ['e', 'G'], ['a', 'i'], ['c', 'e'], ['C', 'F']]\n",
      "[['a', 'i'], ['i', 'H'], ['D', 'I'], ['C', 'F'], ['i', 'I'], ['f', 'A'], ['i', 'E'], ['A', 'G'], ['a', 'j'], ['h', 'B']]\n",
      "[['j', 'F'], ['D', 'E'], ['G', 'H'], ['i', 'A'], ['j', 'I'], ['A', 'C'], ['b', 'F'], ['b', 'J'], ['E', 'F'], ['d', 'e']]\n"
     ]
    }
   ],
   "source": [
    "n = 10\n",
    "k = 2\n",
    "m = 10\n",
    "var,prob = creatproblem(n,k,m)\n",
    "print(var)\n",
    "for i in prob:\n",
    "    print(i)\n",
    "    "
   ]
  },
  {
   "cell_type": "code",
   "execution_count": 146,
   "metadata": {},
   "outputs": [
    {
     "name": "stdout",
     "output_type": "stream",
     "text": [
      "{'a': 1, 'b': 0, 'c': 0, 'd': 0, 'e': 1, 'f': 0, 'g': 1, 'h': 1, 'i': 0, 'j': 0, 'A': 0, 'B': 1, 'C': 1, 'D': 1, 'E': 0, 'F': 1, 'G': 0, 'H': 0, 'I': 1, 'J': 1} 1\n"
     ]
    }
   ],
   "source": [
    "start_state = random_assign(var,n)\n",
    "# print(start_state,prob[0])\n",
    "# start_state = {'a': 0, 'b': 0, 'c': 0, 'd': 0, 'e': 0, 'f':0,'A': 1, 'B': 1, 'C': 1, 'D': 1, 'E': 1, 'F':1}\n",
    "hill_climbing(start_state,prob[0],0)"
   ]
  },
  {
   "cell_type": "code",
   "execution_count": 132,
   "metadata": {},
   "outputs": [
    {
     "name": "stdout",
     "output_type": "stream",
     "text": [
      "True\n"
     ]
    }
   ],
   "source": [
    "print(check_goal_state({'a': 0, 'b': 1, 'c': 0, 'd': 1, 'A': 1, 'B': 0, 'C': 1, 'D': 0},prob[7]))"
   ]
  },
  {
   "cell_type": "markdown",
   "metadata": {},
   "source": [
    "# Beam search "
   ]
  },
  {
   "cell_type": "code",
   "execution_count": 24,
   "metadata": {},
   "outputs": [],
   "source": [
    "def select_node_beam(succs,problem,beamwidth):\n",
    "    heruistic_val = []\n",
    "    beam_nodes = []\n",
    "    for i in succs:\n",
    "        heruistic_val.append(heruistic(problem,i))\n",
    "    for i in range(beamwidth):\n",
    "        index = heruistic_val.index(max(heruistic_val))\n",
    "        beam_nodes.append(succs[index])\n",
    "        succs.remove(succs[index])\n",
    "        \n",
    "    return beam_nodes\n"
   ]
  },
  {
   "cell_type": "code",
   "execution_count": null,
   "metadata": {},
   "outputs": [],
   "source": [
    "print(start_state)\n",
    "successor = next_node(start_state)\n",
    "print(select_node_beam(successor,prob[0],3))"
   ]
  },
  {
   "cell_type": "code",
   "execution_count": 238,
   "metadata": {},
   "outputs": [],
   "source": [
    "def next_node_beam(current):\n",
    "    nextnode = []\n",
    "    for node in current:\n",
    "        key = list(node.keys())\n",
    "        curr_val = list(node.values())\n",
    "        successors_val = []\n",
    "        successor = []\n",
    "        i = 0\n",
    "        while i< len(curr_val):\n",
    "            temp = curr_val.copy()\n",
    "            temp[i] = abs(temp[i]-1)\n",
    "            successors_val.append(temp)                \n",
    "            i += 1\n",
    "        for val in successors_val:\n",
    "            successors.append(dict(zip(key,val)))\n",
    "    nextnode.append(successor)\n",
    "        \n",
    "    return nextnode"
   ]
  },
  {
   "cell_type": "code",
   "execution_count": 241,
   "metadata": {},
   "outputs": [
    {
     "ename": "ValueError",
     "evalue": "max() arg is an empty sequence",
     "output_type": "error",
     "traceback": [
      "\u001b[1;31m---------------------------------------------------------------------------\u001b[0m",
      "\u001b[1;31mValueError\u001b[0m                                Traceback (most recent call last)",
      "\u001b[1;32m<ipython-input-241-f3dbd2914ce4>\u001b[0m in \u001b[0;36m<module>\u001b[1;34m\u001b[0m\n\u001b[1;32m----> 1\u001b[1;33m \u001b[0mprint\u001b[0m\u001b[1;33m(\u001b[0m\u001b[0mselect_node\u001b[0m\u001b[1;33m(\u001b[0m\u001b[0msuccessor\u001b[0m\u001b[1;33m,\u001b[0m\u001b[0mprob\u001b[0m\u001b[1;33m[\u001b[0m\u001b[1;36m0\u001b[0m\u001b[1;33m]\u001b[0m\u001b[1;33m,\u001b[0m\u001b[1;36m3\u001b[0m\u001b[1;33m)\u001b[0m\u001b[1;33m)\u001b[0m\u001b[1;33m\u001b[0m\u001b[1;33m\u001b[0m\u001b[0m\n\u001b[0m",
      "\u001b[1;32m<ipython-input-236-5b02613f127e>\u001b[0m in \u001b[0;36mselect_node\u001b[1;34m(succs, problem, beamwidth)\u001b[0m\n\u001b[0;32m      5\u001b[0m         \u001b[0mheruistic_val\u001b[0m\u001b[1;33m.\u001b[0m\u001b[0mappend\u001b[0m\u001b[1;33m(\u001b[0m\u001b[0mheruistic\u001b[0m\u001b[1;33m(\u001b[0m\u001b[0mproblem\u001b[0m\u001b[1;33m,\u001b[0m\u001b[0mi\u001b[0m\u001b[1;33m)\u001b[0m\u001b[1;33m)\u001b[0m\u001b[1;33m\u001b[0m\u001b[1;33m\u001b[0m\u001b[0m\n\u001b[0;32m      6\u001b[0m     \u001b[1;32mfor\u001b[0m \u001b[0mi\u001b[0m \u001b[1;32min\u001b[0m \u001b[0mrange\u001b[0m\u001b[1;33m(\u001b[0m\u001b[0mbeamwidth\u001b[0m\u001b[1;33m)\u001b[0m\u001b[1;33m:\u001b[0m\u001b[1;33m\u001b[0m\u001b[1;33m\u001b[0m\u001b[0m\n\u001b[1;32m----> 7\u001b[1;33m         \u001b[0mindex\u001b[0m \u001b[1;33m=\u001b[0m \u001b[0mheruistic_val\u001b[0m\u001b[1;33m.\u001b[0m\u001b[0mindex\u001b[0m\u001b[1;33m(\u001b[0m\u001b[0mmax\u001b[0m\u001b[1;33m(\u001b[0m\u001b[0mheruistic_val\u001b[0m\u001b[1;33m)\u001b[0m\u001b[1;33m)\u001b[0m\u001b[1;33m\u001b[0m\u001b[1;33m\u001b[0m\u001b[0m\n\u001b[0m\u001b[0;32m      8\u001b[0m         \u001b[0mbeam_nodes\u001b[0m\u001b[1;33m.\u001b[0m\u001b[0mappend\u001b[0m\u001b[1;33m(\u001b[0m\u001b[0msuccs\u001b[0m\u001b[1;33m[\u001b[0m\u001b[0mindex\u001b[0m\u001b[1;33m]\u001b[0m\u001b[1;33m)\u001b[0m\u001b[1;33m\u001b[0m\u001b[1;33m\u001b[0m\u001b[0m\n\u001b[0;32m      9\u001b[0m         \u001b[0msuccs\u001b[0m\u001b[1;33m.\u001b[0m\u001b[0mremove\u001b[0m\u001b[1;33m(\u001b[0m\u001b[0msuccs\u001b[0m\u001b[1;33m[\u001b[0m\u001b[0mindex\u001b[0m\u001b[1;33m]\u001b[0m\u001b[1;33m)\u001b[0m\u001b[1;33m\u001b[0m\u001b[1;33m\u001b[0m\u001b[0m\n",
      "\u001b[1;31mValueError\u001b[0m: max() arg is an empty sequence"
     ]
    }
   ],
   "source": [
    "print(select_node(successor,prob[0],3))\n"
   ]
  },
  {
   "cell_type": "code",
   "execution_count": null,
   "metadata": {},
   "outputs": [],
   "source": []
  }
 ],
 "metadata": {
  "kernelspec": {
   "display_name": "Python 3",
   "language": "python",
   "name": "python3"
  },
  "language_info": {
   "codemirror_mode": {
    "name": "ipython",
    "version": 3
   },
   "file_extension": ".py",
   "mimetype": "text/x-python",
   "name": "python",
   "nbconvert_exporter": "python",
   "pygments_lexer": "ipython3",
   "version": "3.7.4"
  }
 },
 "nbformat": 4,
 "nbformat_minor": 4
}
