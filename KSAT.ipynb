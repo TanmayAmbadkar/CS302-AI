{
 "cells": [
  {
   "cell_type": "code",
   "execution_count": 16,
   "metadata": {},
   "outputs": [],
   "source": [
    "from string import ascii_lowercase\n",
    "import random\n",
    "from itertools import combinations\n",
    "import numpy as np"
   ]
  },
  {
   "cell_type": "code",
   "execution_count": 17,
   "metadata": {},
   "outputs": [],
   "source": [
    "def creatproblem(n,k,m):\n",
    "        positive_var = list(ascii_lowercase)[:n]\n",
    "        negative_var = [var.upper() for var in positive_var]\n",
    "        variables = positive_var + negative_var\n",
    "        problem = []\n",
    "        threshold = 10       \n",
    "        i = 0\n",
    "        comb = list(combinations(variables,k))\n",
    "        \n",
    "        while i<threshold:\n",
    "            c = random.sample(comb,m)\n",
    "            if c not in problem:\n",
    "                problem.append(c)\n",
    "                i += 1\n",
    "        \n",
    "        problems_new = []\n",
    "        for c in problem:\n",
    "            temp = []\n",
    "            temp = [list(sub) for sub in c]\n",
    "            problems_new.append(temp)\n",
    "        return  variables,problems_new \n",
    "     \n",
    "    \n",
    " \n",
    "        "
   ]
  },
  {
   "cell_type": "code",
   "execution_count": 18,
   "metadata": {},
   "outputs": [],
   "source": [
    "def random_assign(variables,n):\n",
    "    litral = list(np.random.choice(2,n))\n",
    "    negation = [abs(i-1) for i in litral]\n",
    "    assign = litral + negation\n",
    "    return dict(zip(variables,assign))"
   ]
  },
  {
   "cell_type": "code",
   "execution_count": 19,
   "metadata": {},
   "outputs": [],
   "source": [
    "def heruistic(problem,assign):\n",
    "    count = 0\n",
    "    for sub in problem:       \n",
    "        encode = [assign[val] for val in sub]\n",
    "        count += any(encode)\n",
    "    return count    \n",
    "    \n",
    "    "
   ]
  },
  {
   "cell_type": "code",
   "execution_count": 20,
   "metadata": {},
   "outputs": [],
   "source": [
    "def next_node(current):\n",
    "    key = list(current.keys())\n",
    "    key.sort()\n",
    "    key = key[0:len(key)//2]\n",
    "    successors = []\n",
    "    for k in key:\n",
    "        temp = current.copy()\n",
    "        temp[k] = abs(temp[k]-1)\n",
    "        temp[chr(ord(k)+32)] = abs(temp[chr(ord(k)+32)]-1)\n",
    "        successors.append(temp)  \n",
    "    \n",
    "\n",
    "    \n",
    "    return successors\n",
    "    "
   ]
  },
  {
   "cell_type": "code",
   "execution_count": 21,
   "metadata": {},
   "outputs": [
    {
     "name": "stdout",
     "output_type": "stream",
     "text": [
      "[{'a': 1, 'b': 0, 'c': 0, 'A': 0, 'B': 1, 'C': 1}, {'a': 0, 'b': 1, 'c': 0, 'A': 1, 'B': 0, 'C': 1}, {'a': 0, 'b': 0, 'c': 1, 'A': 1, 'B': 1, 'C': 0}]\n"
     ]
    }
   ],
   "source": [
    "print(next_node({'a': 0, 'b': 0, 'c': 0, 'A': 1, 'B': 1, 'C': 1}))"
   ]
  },
  {
   "cell_type": "code",
   "execution_count": 22,
   "metadata": {},
   "outputs": [],
   "source": [
    "def select_node(succs,problem):\n",
    "    heruistic_val = []\n",
    "    for i in succs:\n",
    "        heruistic_val.append(heruistic(problem,i))\n",
    "    index = heruistic_val.index(max(heruistic_val))\n",
    "    return succs[index]"
   ]
  },
  {
   "cell_type": "code",
   "execution_count": 23,
   "metadata": {},
   "outputs": [],
   "source": [
    "def check_goal_state(state,problem):\n",
    "    count = 0\n",
    "    for sub in problem:       \n",
    "        encode = [state[val] for val in sub]\n",
    "        count += any(encode)\n",
    "    return len(problem) == count"
   ]
  },
  {
   "cell_type": "code",
   "execution_count": 24,
   "metadata": {},
   "outputs": [],
   "source": [
    "def hill_climbing(current_state,problem,step):\n",
    "    if step == 10000:\n",
    "        print('halted at depth',step)\n",
    "        return\n",
    "    if check_goal_state(current_state,problem)==True:\n",
    "        print(current_state,step)\n",
    "        return \n",
    "    else:\n",
    "        step += 1\n",
    "        successor = next_node(current_state)\n",
    "        new_node = select_node(successor,problem)\n",
    "        hill_climbing(new_node,problem,step)"
   ]
  },
  {
   "cell_type": "code",
   "execution_count": 25,
   "metadata": {},
   "outputs": [
    {
     "name": "stdout",
     "output_type": "stream",
     "text": [
      "['a', 'b', 'A', 'B']\n",
      "[['a', 'b', 'B'], ['a', 'b', 'A']]\n",
      "[['a', 'b', 'B'], ['a', 'A', 'B']]\n",
      "[['a', 'A', 'B'], ['b', 'A', 'B']]\n",
      "[['a', 'A', 'B'], ['a', 'b', 'B']]\n",
      "[['b', 'A', 'B'], ['a', 'b', 'B']]\n",
      "[['b', 'A', 'B'], ['a', 'A', 'B']]\n",
      "[['a', 'b', 'A'], ['a', 'A', 'B']]\n",
      "[['a', 'b', 'A'], ['b', 'A', 'B']]\n",
      "[['b', 'A', 'B'], ['a', 'b', 'A']]\n",
      "[['a', 'b', 'B'], ['b', 'A', 'B']]\n"
     ]
    }
   ],
   "source": [
    "n = 2\n",
    "k = 3\n",
    "m = 2\n",
    "var,prob = creatproblem(n,k,m)\n",
    "print(var)\n",
    "for i in prob:\n",
    "    print(i)\n",
    "    "
   ]
  },
  {
   "cell_type": "code",
   "execution_count": 26,
   "metadata": {},
   "outputs": [
    {
     "name": "stdout",
     "output_type": "stream",
     "text": [
      "{'a': 0, 'b': 0, 'A': 1, 'B': 1} [['a', 'b', 'B'], ['a', 'b', 'A']]\n",
      "{'a': 0, 'b': 0, 'A': 1, 'B': 1} 0\n"
     ]
    }
   ],
   "source": [
    "start_state = random_assign(var,n)\n",
    "print(start_state,prob[0])\n",
    "# start_state = {'a': 0, 'b': 0, 'c': 0, 'd': 0, 'e': 0, 'f':0,'A': 1, 'B': 1, 'C': 1, 'D': 1, 'E': 1, 'F':1}\n",
    "hill_climbing(start_state,prob[0],0)"
   ]
  },
  {
   "cell_type": "code",
   "execution_count": 132,
   "metadata": {},
   "outputs": [
    {
     "name": "stdout",
     "output_type": "stream",
     "text": [
      "True\n"
     ]
    }
   ],
   "source": [
    "print(check_goal_state({'a': 0, 'b': 1, 'c': 0, 'd': 1, 'A': 1, 'B': 0, 'C': 1, 'D': 0},prob[7]))"
   ]
  },
  {
   "cell_type": "markdown",
   "metadata": {},
   "source": [
    "# Beam search "
   ]
  },
  {
   "cell_type": "code",
   "execution_count": 210,
   "metadata": {},
   "outputs": [],
   "source": [
    "def heruistic(problem,assign):\n",
    "    count = 0\n",
    "    for sub in problem:       \n",
    "        encode = [assign[val] for val in sub]\n",
    "        count += any(encode)\n",
    "    return count"
   ]
  },
  {
   "cell_type": "code",
   "execution_count": 211,
   "metadata": {},
   "outputs": [],
   "source": [
    "def select_node_beam(succs,problem,beamwidth):\n",
    "    heruistic_val = []\n",
    "    beam_nodes = []\n",
    "    for i in succs:\n",
    "        heruistic_val.append(heruistic(problem,i))\n",
    "    for i in range(beamwidth):\n",
    "        index = heruistic_val.index(max(heruistic_val))\n",
    "        beam_nodes.append(succs[index])\n",
    "        succs.remove(succs[index])\n",
    "        \n",
    "    return beam_nodes\n"
   ]
  },
  {
   "cell_type": "code",
   "execution_count": 212,
   "metadata": {},
   "outputs": [],
   "source": []
  },
  {
   "cell_type": "code",
   "execution_count": null,
   "metadata": {},
   "outputs": [],
   "source": [
    "def check_goal_state(state,problem,beamwidth):\n",
    "    count = 0\n",
    "    for sub in problem:       \n",
    "        encode = [state[val] for val in sub]\n",
    "        count += any(encode)\n",
    "    return len(problem) == count"
   ]
  },
  {
   "cell_type": "code",
   "execution_count": 213,
   "metadata": {},
   "outputs": [],
   "source": [
    "def next_node_beam(succs):\n",
    "    nextnode= []\n",
    "    for current in succs:\n",
    "        key = list(current.keys())\n",
    "        key.sort()\n",
    "        key = key[0:len(key)//2]\n",
    "        successors = []\n",
    "        for k in key:\n",
    "            temp = current.copy()\n",
    "            temp[k] = abs(temp[k]-1)\n",
    "            temp[chr(ord(k)+32)] = abs(temp[chr(ord(k)+32)]-1)\n",
    "            successors.append(temp)\n",
    "            nextnode.append(temp)\n",
    "        \n",
    "    return nextnode"
   ]
  },
  {
   "cell_type": "code",
   "execution_count": 239,
   "metadata": {},
   "outputs": [],
   "source": [
    "def beam_search(start,problem,step,beamwidth):\n",
    "    if step == 10000:\n",
    "        print('halted at depth',step)\n",
    "        return\n",
    "    for current_state in start:\n",
    "        print(current_state)\n",
    "        if check_goal_state(current_state,problem)==True:\n",
    "            print(current_state,step)\n",
    "            return \n",
    "    step +=1    \n",
    "    successor = next_node_beam(start,problem,beamwidth)\n",
    "    new_node = select_node_beam(successor,prob[0],beamwidth)\n",
    "    beam_search(start,problem,step,beamwidth)\n",
    "    "
   ]
  },
  {
   "cell_type": "code",
   "execution_count": 242,
   "metadata": {},
   "outputs": [
    {
     "name": "stdout",
     "output_type": "stream",
     "text": [
      "['a', 'b', 'c', 'd', 'e', 'A', 'B', 'C', 'D', 'E']\n",
      "[['e', 'C', 'D'], ['b', 'B', 'C'], ['b', 'C', 'E'], ['A', 'B', 'C'], ['c', 'C', 'D']]\n",
      "[['d', 'A', 'B'], ['a', 'd', 'D'], ['a', 'A', 'C'], ['A', 'D', 'E'], ['b', 'A', 'D']]\n",
      "[['e', 'A', 'B'], ['b', 'B', 'C'], ['a', 'e', 'E'], ['d', 'e', 'E'], ['B', 'C', 'D']]\n",
      "[['a', 'b', 'E'], ['a', 'c', 'd'], ['d', 'A', 'D'], ['A', 'D', 'E'], ['c', 'e', 'B']]\n",
      "[['A', 'B', 'E'], ['A', 'C', 'E'], ['B', 'C', 'E'], ['d', 'A', 'B'], ['a', 'b', 'A']]\n",
      "[['b', 'C', 'D'], ['a', 'd', 'B'], ['a', 'e', 'C'], ['c', 'B', 'E'], ['d', 'B', 'C']]\n",
      "[['b', 'd', 'B'], ['a', 'C', 'D'], ['C', 'D', 'E'], ['e', 'D', 'E'], ['b', 'A', 'C']]\n",
      "[['b', 'e', 'D'], ['a', 'b', 'd'], ['b', 'd', 'C'], ['d', 'B', 'D'], ['a', 'c', 'B']]\n",
      "[['a', 'B', 'E'], ['a', 'C', 'D'], ['a', 'b', 'C'], ['b', 'e', 'E'], ['c', 'B', 'D']]\n",
      "[['b', 'e', 'D'], ['e', 'A', 'D'], ['b', 'c', 'D'], ['d', 'C', 'E'], ['d', 'D', 'E']]\n"
     ]
    }
   ],
   "source": [
    "n = 5\n",
    "k = 3\n",
    "m = 5\n",
    "var,probl = creatproblem(n,k,m)\n",
    "print(var)\n",
    "for i in probl:\n",
    "    print(i)\n",
    "    "
   ]
  },
  {
   "cell_type": "code",
   "execution_count": 243,
   "metadata": {},
   "outputs": [
    {
     "name": "stdout",
     "output_type": "stream",
     "text": [
      "[{'a': 1, 'b': 1, 'c': 1, 'd': 1, 'e': 1, 'A': 0, 'B': 0, 'C': 0, 'D': 0, 'E': 0}, {'a': 1, 'b': 1, 'c': 1, 'd': 1, 'e': 1, 'A': 0, 'B': 0, 'C': 0, 'D': 0, 'E': 0}]\n"
     ]
    }
   ],
   "source": [
    "start_state = random_assign(var,n)\n",
    "print([start_state,start_state])\n"
   ]
  },
  {
   "cell_type": "markdown",
   "metadata": {},
   "source": [
    "# Beam width should not exceed number of variable"
   ]
  },
  {
   "cell_type": "code",
   "execution_count": 244,
   "metadata": {},
   "outputs": [
    {
     "name": "stdout",
     "output_type": "stream",
     "text": [
      "{'a': 1, 'b': 1, 'c': 1, 'd': 1, 'e': 1, 'A': 0, 'B': 0, 'C': 0, 'D': 0, 'E': 0}\n",
      "{'a': 1, 'b': 1, 'c': 1, 'd': 1, 'e': 1, 'A': 0, 'B': 0, 'C': 0, 'D': 0, 'E': 0} 0\n"
     ]
    }
   ],
   "source": [
    "beam_search([start_state,start_state],prob[2],0,1)"
   ]
  },
  {
   "cell_type": "markdown",
   "metadata": {},
   "source": [
    "# Variable-Neighborhood-Descent with 3 neighborhood functions"
   ]
  },
  {
   "cell_type": "code",
   "execution_count": 27,
   "metadata": {},
   "outputs": [],
   "source": [
    "def heruistic(problem,assign):\n",
    "    count = 0\n",
    "    for sub in problem:       \n",
    "        encode = [assign[val] for val in sub]\n",
    "        count += any(encode)\n",
    "    return count\n"
   ]
  },
  {
   "cell_type": "code",
   "execution_count": 29,
   "metadata": {},
   "outputs": [],
   "source": [
    "def check_goal_state(state,problem):\n",
    "    count = 0\n",
    "    for sub in problem:       \n",
    "        encode = [state[val] for val in sub]\n",
    "        count += any(encode)\n",
    "    return len(problem) == count"
   ]
  },
  {
   "cell_type": "code",
   "execution_count": 30,
   "metadata": {},
   "outputs": [],
   "source": [
    "def select_node(succs,problem):\n",
    "    heruistic_val = []\n",
    "    for i in succs:\n",
    "        heruistic_val.append(heruistic(problem,i))\n",
    "    index = heruistic_val.index(max(heruistic_val))\n",
    "    return succs[index]"
   ]
  },
  {
   "cell_type": "code",
   "execution_count": 31,
   "metadata": {},
   "outputs": [],
   "source": [
    "def nghd1(current):\n",
    "    key = list(current.keys())\n",
    "    key.sort()\n",
    "    key = key[0:len(key)//2]\n",
    "    successors = []\n",
    "    for k in key:\n",
    "        temp = current.copy()\n",
    "        temp[k] = abs(temp[k]-1)\n",
    "        temp[chr(ord(k)+32)] = abs(temp[chr(ord(k)+32)]-1)\n",
    "        successors.append(temp)   \n",
    "\n",
    "    \n",
    "    return successors"
   ]
  },
  {
   "cell_type": "code",
   "execution_count": 32,
   "metadata": {},
   "outputs": [
    {
     "name": "stdout",
     "output_type": "stream",
     "text": [
      "[{'a': 0, 'b': 1, 'c': 1, 'd': 1, 'e': 1, 'A': 1, 'B': 0, 'C': 0, 'D': 0, 'E': 0}, {'a': 1, 'b': 0, 'c': 1, 'd': 1, 'e': 1, 'A': 0, 'B': 1, 'C': 0, 'D': 0, 'E': 0}, {'a': 1, 'b': 1, 'c': 0, 'd': 1, 'e': 1, 'A': 0, 'B': 0, 'C': 1, 'D': 0, 'E': 0}, {'a': 1, 'b': 1, 'c': 1, 'd': 0, 'e': 1, 'A': 0, 'B': 0, 'C': 0, 'D': 1, 'E': 0}, {'a': 1, 'b': 1, 'c': 1, 'd': 1, 'e': 0, 'A': 0, 'B': 0, 'C': 0, 'D': 0, 'E': 1}]\n"
     ]
    }
   ],
   "source": [
    "print(nghd1({'a': 1, 'b': 1, 'c': 1, 'd': 1, 'e': 1, 'A': 0, 'B': 0, 'C': 0, 'D': 0, 'E': 0}))"
   ]
  },
  {
   "cell_type": "code",
   "execution_count": 33,
   "metadata": {},
   "outputs": [],
   "source": [
    "def nghd2(current):\n",
    "    key = list(current.keys())\n",
    "    key.sort()\n",
    "    key = key[0:len(key)//2]\n",
    "    successors = []\n",
    "    for j in range(0,len(key)-1):\n",
    "        for i in range(j,len(key)-1):\n",
    "            \n",
    "            temp = current.copy()\n",
    "            temp[key[i]] = abs(temp[key[i]]-1)\n",
    "            temp[key[i+1]] = abs(temp[key[i+1]]-1)\n",
    "            temp[chr(ord(key[i])+32)] = abs(temp[chr(ord(key[i])+32)]-1)\n",
    "            temp[chr(ord(key[i+1])+32)] = abs(temp[chr(ord(key[i+1])+32)]-1)\n",
    "            successors.append(temp)   \n",
    "\n",
    "    \n",
    "    return successors"
   ]
  },
  {
   "cell_type": "code",
   "execution_count": 34,
   "metadata": {},
   "outputs": [
    {
     "name": "stdout",
     "output_type": "stream",
     "text": [
      "[{'a': 0, 'b': 0, 'c': 1, 'd': 1, 'e': 1, 'A': 1, 'B': 1, 'C': 0, 'D': 0, 'E': 0}, {'a': 1, 'b': 0, 'c': 0, 'd': 1, 'e': 1, 'A': 0, 'B': 1, 'C': 1, 'D': 0, 'E': 0}, {'a': 1, 'b': 1, 'c': 0, 'd': 0, 'e': 1, 'A': 0, 'B': 0, 'C': 1, 'D': 1, 'E': 0}, {'a': 1, 'b': 1, 'c': 1, 'd': 0, 'e': 0, 'A': 0, 'B': 0, 'C': 0, 'D': 1, 'E': 1}, {'a': 1, 'b': 0, 'c': 0, 'd': 1, 'e': 1, 'A': 0, 'B': 1, 'C': 1, 'D': 0, 'E': 0}, {'a': 1, 'b': 1, 'c': 0, 'd': 0, 'e': 1, 'A': 0, 'B': 0, 'C': 1, 'D': 1, 'E': 0}, {'a': 1, 'b': 1, 'c': 1, 'd': 0, 'e': 0, 'A': 0, 'B': 0, 'C': 0, 'D': 1, 'E': 1}, {'a': 1, 'b': 1, 'c': 0, 'd': 0, 'e': 1, 'A': 0, 'B': 0, 'C': 1, 'D': 1, 'E': 0}, {'a': 1, 'b': 1, 'c': 1, 'd': 0, 'e': 0, 'A': 0, 'B': 0, 'C': 0, 'D': 1, 'E': 1}, {'a': 1, 'b': 1, 'c': 1, 'd': 0, 'e': 0, 'A': 0, 'B': 0, 'C': 0, 'D': 1, 'E': 1}]\n"
     ]
    }
   ],
   "source": [
    "print(nghd2({'a': 1, 'b': 1, 'c': 1, 'd': 1, 'e': 1, 'A': 0, 'B': 0, 'C': 0, 'D': 0, 'E': 0}))"
   ]
  },
  {
   "cell_type": "code",
   "execution_count": 35,
   "metadata": {},
   "outputs": [],
   "source": [
    "def nghd3(current):\n",
    "    key = list(current.keys())\n",
    "    key.sort()\n",
    "    key = key[0:len(key)//2]\n",
    "    successors = []\n",
    "    for j in range(0,len(key)-2):\n",
    "        for k in range(j,len(key)-2):\n",
    "            for i in range(k,len(key)-2):               \n",
    "            \n",
    "                temp = current.copy()\n",
    "                temp[key[i]] = abs(temp[key[i]]-1)\n",
    "                temp[key[i+1]] = abs(temp[key[i+1]]-1)\n",
    "                temp[chr(ord(key[i])+32)] = abs(temp[chr(ord(key[i])+32)]-1)\n",
    "                temp[chr(ord(key[i+1])+32)] = abs(temp[chr(ord(key[i+1])+32)]-1)\n",
    "                successors.append(temp)   \n",
    "\n",
    "    \n",
    "    return successors"
   ]
  },
  {
   "cell_type": "code",
   "execution_count": 36,
   "metadata": {},
   "outputs": [
    {
     "name": "stdout",
     "output_type": "stream",
     "text": [
      "[{'a': 0, 'b': 0, 'c': 1, 'd': 1, 'e': 1, 'A': 1, 'B': 1, 'C': 0, 'D': 0, 'E': 0}, {'a': 1, 'b': 0, 'c': 0, 'd': 1, 'e': 1, 'A': 0, 'B': 1, 'C': 1, 'D': 0, 'E': 0}, {'a': 1, 'b': 1, 'c': 0, 'd': 0, 'e': 1, 'A': 0, 'B': 0, 'C': 1, 'D': 1, 'E': 0}, {'a': 1, 'b': 0, 'c': 0, 'd': 1, 'e': 1, 'A': 0, 'B': 1, 'C': 1, 'D': 0, 'E': 0}, {'a': 1, 'b': 1, 'c': 0, 'd': 0, 'e': 1, 'A': 0, 'B': 0, 'C': 1, 'D': 1, 'E': 0}, {'a': 1, 'b': 1, 'c': 0, 'd': 0, 'e': 1, 'A': 0, 'B': 0, 'C': 1, 'D': 1, 'E': 0}, {'a': 1, 'b': 0, 'c': 0, 'd': 1, 'e': 1, 'A': 0, 'B': 1, 'C': 1, 'D': 0, 'E': 0}, {'a': 1, 'b': 1, 'c': 0, 'd': 0, 'e': 1, 'A': 0, 'B': 0, 'C': 1, 'D': 1, 'E': 0}, {'a': 1, 'b': 1, 'c': 0, 'd': 0, 'e': 1, 'A': 0, 'B': 0, 'C': 1, 'D': 1, 'E': 0}, {'a': 1, 'b': 1, 'c': 0, 'd': 0, 'e': 1, 'A': 0, 'B': 0, 'C': 1, 'D': 1, 'E': 0}]\n"
     ]
    }
   ],
   "source": [
    "print(nghd3({'a': 1, 'b': 1, 'c': 1, 'd': 1, 'e': 1, 'A': 0, 'B': 0, 'C': 0, 'D': 0, 'E': 0}))"
   ]
  },
  {
   "cell_type": "code",
   "execution_count": 47,
   "metadata": {},
   "outputs": [],
   "source": [
    "def Variable_Neighborhood1(current_state,problem,step):\n",
    "    if step == 10000:\n",
    "        print('halted at depth',step)\n",
    "        return\n",
    "    if check_goal_state(current_state,problem)==True:\n",
    "        return current_state\n",
    "        \n",
    "    else:\n",
    "        step += 1\n",
    "        successor = next_node(current_state)\n",
    "        new_node = nghd1(successor,problem)\n",
    "        Variable_Neighborhood(new_node,problem,step)"
   ]
  },
  {
   "cell_type": "code",
   "execution_count": 49,
   "metadata": {},
   "outputs": [],
   "source": [
    "def Variable_Neighborhood2(current_state,problem,step):\n",
    "    if step == 10000:\n",
    "        print('halted at depth',step)\n",
    "        return\n",
    "    if check_goal_state(current_state,problem)==True:\n",
    "        return current_state\n",
    "         \n",
    "    else:\n",
    "        step += 1\n",
    "        successor = next_node(current_state)\n",
    "        new_node = nghd2(successor,problem)\n",
    "        Variable_Neighborhood(new_node,problem,step)"
   ]
  },
  {
   "cell_type": "code",
   "execution_count": 44,
   "metadata": {},
   "outputs": [],
   "source": [
    "def Variable_Neighborhood3(current_state,problem,step):\n",
    "    if step == 10000:\n",
    "        print('halted at depth',step)\n",
    "        return\n",
    "    if check_goal_state(current_state,problem)==True:\n",
    "        print(current_state,step)\n",
    "        return \n",
    "    else:\n",
    "        step += 1\n",
    "        successor = next_node(current_state)\n",
    "        new_node = nghd3(successor,problem)\n",
    "        Variable_Neighborhood(new_node,problem,step)"
   ]
  },
  {
   "cell_type": "code",
   "execution_count": 38,
   "metadata": {},
   "outputs": [
    {
     "name": "stdout",
     "output_type": "stream",
     "text": [
      "['a', 'b', 'c', 'd', 'e', 'A', 'B', 'C', 'D', 'E']\n",
      "[['c', 'd', 'C'], ['d', 'D', 'E'], ['c', 'e', 'A'], ['a', 'B', 'C'], ['c', 'C', 'D']]\n",
      "[['d', 'B', 'C'], ['c', 'd', 'e'], ['a', 'e', 'E'], ['A', 'C', 'E'], ['b', 'd', 'C']]\n",
      "[['A', 'D', 'E'], ['a', 'b', 'D'], ['a', 'B', 'C'], ['b', 'd', 'e'], ['a', 'c', 'D']]\n",
      "[['a', 'C', 'D'], ['c', 'e', 'A'], ['b', 'd', 'e'], ['B', 'C', 'D'], ['a', 'e', 'C']]\n",
      "[['b', 'B', 'D'], ['b', 'c', 'D'], ['a', 'B', 'E'], ['a', 'b', 'd'], ['A', 'C', 'D']]\n",
      "[['a', 'd', 'D'], ['a', 'A', 'D'], ['A', 'B', 'D'], ['a', 'b', 'c'], ['c', 'A', 'E']]\n",
      "[['b', 'C', 'E'], ['b', 'C', 'D'], ['c', 'B', 'C'], ['c', 'd', 'E'], ['a', 'e', 'E']]\n",
      "[['a', 'e', 'C'], ['a', 'd', 'C'], ['b', 'c', 'B'], ['a', 'c', 'D'], ['c', 'A', 'E']]\n",
      "[['a', 'c', 'B'], ['b', 'e', 'B'], ['d', 'e', 'E'], ['a', 'd', 'B'], ['a', 'A', 'D']]\n",
      "[['a', 'd', 'E'], ['A', 'B', 'E'], ['c', 'A', 'E'], ['d', 'e', 'C'], ['a', 'A', 'C']]\n"
     ]
    }
   ],
   "source": [
    "n = 5\n",
    "k = 3\n",
    "m = 5\n",
    "var,probl = creatproblem(n,k,m)\n",
    "print(var)\n",
    "for i in probl:\n",
    "    print(i)"
   ]
  },
  {
   "cell_type": "code",
   "execution_count": 39,
   "metadata": {},
   "outputs": [
    {
     "name": "stdout",
     "output_type": "stream",
     "text": [
      "[{'a': 0, 'b': 0, 'c': 0, 'd': 1, 'e': 1, 'A': 1, 'B': 1, 'C': 1, 'D': 0, 'E': 0}, {'a': 0, 'b': 0, 'c': 0, 'd': 1, 'e': 1, 'A': 1, 'B': 1, 'C': 1, 'D': 0, 'E': 0}]\n"
     ]
    }
   ],
   "source": [
    "start_state = random_assign(var,n)\n",
    "print([start_state,start_state])\n"
   ]
  },
  {
   "cell_type": "code",
   "execution_count": 51,
   "metadata": {},
   "outputs": [
    {
     "name": "stdout",
     "output_type": "stream",
     "text": [
      "{'a': 0, 'b': 0, 'c': 0, 'd': 1, 'e': 1, 'A': 1, 'B': 1, 'C': 1, 'D': 0, 'E': 0} 0\n"
     ]
    }
   ],
   "source": [
    "var1 = start_state\n",
    "var2 = Variable_Neighborhood1(var1,prob[0],0)\n",
    "var3 = Variable_Neighborhood2(var2,prob[0],0)\n",
    "Variable_Neighborhood(var3,prob[0],0)"
   ]
  },
  {
   "cell_type": "code",
   "execution_count": null,
   "metadata": {},
   "outputs": [],
   "source": []
  }
 ],
 "metadata": {
  "kernelspec": {
   "display_name": "Python 3",
   "language": "python",
   "name": "python3"
  },
  "language_info": {
   "codemirror_mode": {
    "name": "ipython",
    "version": 3
   },
   "file_extension": ".py",
   "mimetype": "text/x-python",
   "name": "python",
   "nbconvert_exporter": "python",
   "pygments_lexer": "ipython3",
   "version": "3.7.4"
  }
 },
 "nbformat": 4,
 "nbformat_minor": 4
}
