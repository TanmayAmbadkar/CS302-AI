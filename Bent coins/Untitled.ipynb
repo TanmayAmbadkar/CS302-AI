{
 "cells": [
  {
   "cell_type": "code",
   "execution_count": 78,
   "metadata": {},
   "outputs": [],
   "source": [
    "import numpy as np\n",
    "import pandas as pd\n",
    "from scipy.special import comb"
   ]
  },
  {
   "cell_type": "code",
   "execution_count": 79,
   "metadata": {},
   "outputs": [],
   "source": [
    "np.random.seed(0)\n",
    "df = pd.read_csv(\"2020_ten_bent_coins.csv\").transpose()\n",
    "head_counts = df.sum().to_numpy()\n",
    "tail_counts = 100 - head_counts\n",
    "coin_selected = np.random.randint(0, 10, size=(500,))\n",
    "_, count_coins_selected = np.unique(coin_selected, return_counts=True)\n",
    "MLE_vector = np.zeros(10)"
   ]
  },
  {
   "cell_type": "code",
   "execution_count": 80,
   "metadata": {},
   "outputs": [],
   "source": [
    "for i,j in zip(head_counts, coin_selected):\n",
    "    MLE_vector[j]+=i"
   ]
  },
  {
   "cell_type": "code",
   "execution_count": 81,
   "metadata": {},
   "outputs": [],
   "source": [
    "MLE_vector = MLE_vector/(count_coins_selected*100)"
   ]
  },
  {
   "cell_type": "code",
   "execution_count": 82,
   "metadata": {},
   "outputs": [],
   "source": [
    "def compute_likelihood(obs, n, pheads):\n",
    "\n",
    "    likelihood = comb(n, obs, exact=True)*(pheads**obs)*(1.0-pheads)**(n-obs)\n",
    "\n",
    "    return likelihood"
   ]
  },
  {
   "cell_type": "code",
   "execution_count": 86,
   "metadata": {
    "scrolled": false
   },
   "outputs": [
    {
     "name": "stdout",
     "output_type": "stream",
     "text": [
      "Epoch: 0\n",
      "thetas: [0.54030055 0.74700458 0.60774813 0.53612429 0.39390495 0.66432208\n",
      " 0.42455597 0.87913902 0.9408577  0.16211897]\n",
      "Epoch: 1\n",
      "thetas: [0.5302535  0.75955475 0.61332103 0.5258201  0.35874312 0.67708556\n",
      " 0.40729141 0.87384035 0.92352302 0.10546534]\n",
      "Epoch: 2\n",
      "thetas: [0.52018909 0.76576297 0.61839452 0.5155784  0.31426446 0.68593045\n",
      " 0.39912291 0.87020696 0.9136364  0.08328092]\n",
      "Epoch: 3\n",
      "thetas: [0.51163503 0.76889438 0.62203863 0.50672204 0.27727676 0.69178149\n",
      " 0.39765551 0.86830699 0.90930678 0.07144459]\n",
      "Epoch: 4\n",
      "thetas: [0.50591337 0.77056051 0.62378851 0.50050643 0.24532125 0.69564221\n",
      " 0.39109125 0.86756872 0.90765306 0.0584879 ]\n",
      "Epoch: 5\n",
      "thetas: [0.50177514 0.77150992 0.62403936 0.49571276 0.22302672 0.69828232\n",
      " 0.38031544 0.86742743 0.90706774 0.04969973]\n",
      "Epoch: 6\n",
      "thetas: [0.49827412 0.77206431 0.62329137 0.49144947 0.20702191 0.70011169\n",
      " 0.36859236 0.86757113 0.90687069 0.044538  ]\n",
      "Epoch: 7\n",
      "thetas: [0.49486354 0.77237337 0.62188139 0.48714269 0.19357881 0.70134625\n",
      " 0.35755323 0.8678396  0.90680197 0.04040518]\n",
      "Epoch: 8\n",
      "thetas: [0.49139945 0.77251562 0.61997426 0.48257882 0.18073897 0.70210547\n",
      " 0.34738862 0.86814663 0.90676844 0.03582938]\n",
      "Epoch: 9\n",
      "thetas: [0.48790436 0.772535   0.61765985 0.47769309 0.16779264 0.70246642\n",
      " 0.33751193 0.86844301 0.90673968 0.03014372]\n",
      "Epoch: 10\n",
      "thetas: [0.48437903 0.77245793 0.6150036  0.4723681  0.15546467 0.70248497\n",
      " 0.32750971 0.86869972 0.90670787 0.02413786]\n",
      "Epoch: 11\n",
      "thetas: [0.48082938 0.77230195 0.61204314 0.4664367  0.14469318 0.7022024\n",
      " 0.31791435 0.86889965 0.90667292 0.01925729]\n",
      "Epoch: 12\n",
      "thetas: [0.47744018 0.77207913 0.60879011 0.45986275 0.13608127 0.70164984\n",
      " 0.30932917 0.86903319 0.90663702 0.01504909]\n"
     ]
    }
   ],
   "source": [
    "np.random.seed(0)\n",
    "p_heads = np.zeros((100,10))\n",
    "p_heads[0] = np.random.random((1,10))\n",
    "\n",
    "eps = 0.01\n",
    "improvement = float('inf')\n",
    "\n",
    "epoch = 0\n",
    "while improvement>eps:\n",
    "    \n",
    "    expectation = np.zeros((10, 500, 2))\n",
    "    \n",
    "    for i in range(500):\n",
    "        eH = head_counts[i]\n",
    "        eT = tail_counts[i]\n",
    "        \n",
    "        likelihood = np.zeros(10)\n",
    "        \n",
    "        for j in range(10):\n",
    "            \n",
    "            likelihood[j] = compute_likelihood(eH, 100, p_heads[epoch][j])\n",
    "        \n",
    "        weights = likelihood/np.sum(likelihood)\n",
    "        \n",
    "        for j in range(10):\n",
    "            expectation[j][i] = weights[j]*np.array([eH, eT])\n",
    "        \n",
    "    thetas = np.zeros(10)\n",
    "    for i in range(10):\n",
    "        thetas[i] = np.sum(expectation[i], axis = 0)[0]/ np.sum(expectation[i])\n",
    "        \n",
    "    p_heads[epoch+1] = thetas\n",
    "    print(f'Epoch: {epoch}\\nthetas: {thetas}')\n",
    "    \n",
    "    improvement = max(abs(p_heads[epoch+1] - p_heads[epoch]))\n",
    "    epoch+=1"
   ]
  },
  {
   "cell_type": "code",
   "execution_count": 87,
   "metadata": {},
   "outputs": [
    {
     "name": "stdout",
     "output_type": "stream",
     "text": [
      "[0.5026     0.47069767 0.44866667 0.38126761 0.45807692 0.48977273\n",
      " 0.44317073 0.43489796 0.52814815 0.38333333]\n"
     ]
    }
   ],
   "source": [
    "print(MLE_vector)"
   ]
  }
 ],
 "metadata": {
  "kernelspec": {
   "display_name": "Python 3",
   "language": "python",
   "name": "python3"
  },
  "language_info": {
   "codemirror_mode": {
    "name": "ipython",
    "version": 3
   },
   "file_extension": ".py",
   "mimetype": "text/x-python",
   "name": "python",
   "nbconvert_exporter": "python",
   "pygments_lexer": "ipython3",
   "version": "3.8.5"
  }
 },
 "nbformat": 4,
 "nbformat_minor": 4
}
