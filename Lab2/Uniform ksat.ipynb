{
 "cells": [
  {
   "cell_type": "code",
   "execution_count": 1,
   "metadata": {},
   "outputs": [],
   "source": [
    "from string import ascii_lowercase\n",
    "import random\n",
    "from itertools import combinations\n",
    "import numpy as np"
   ]
  },
  {
   "cell_type": "code",
   "execution_count": 2,
   "metadata": {},
   "outputs": [],
   "source": [
    "def creatproblem(n,k,m):\n",
    "        positive_var = list(ascii_lowercase)[:n]\n",
    "        negative_var = [var.upper() for var in positive_var]\n",
    "        variables = positive_var + negative_var\n",
    "        problem = []\n",
    "        threshold = 10       \n",
    "        i = 0\n",
    "        comb = list(combinations(variables,k))\n",
    "        \n",
    "        while i<threshold:\n",
    "            c = random.sample(comb,m)\n",
    "            if c not in problem:\n",
    "                problem.append(c)\n",
    "                i += 1\n",
    "        \n",
    "        problems_new = []\n",
    "        for c in problem:\n",
    "            temp = []\n",
    "            temp = [list(sub) for sub in c]\n",
    "            problems_new.append(temp)\n",
    "        return  variables,problems_new "
   ]
  },
  {
   "cell_type": "code",
   "execution_count": 3,
   "metadata": {},
   "outputs": [],
   "source": [
    "def random_assign(variables,n):\n",
    "    litral = list(np.random.choice(2,n))\n",
    "    negation = [abs(i-1) for i in litral]\n",
    "    assign = litral + negation\n",
    "    return dict(zip(variables,assign))"
   ]
  },
  {
   "cell_type": "code",
   "execution_count": 6,
   "metadata": {},
   "outputs": [
    {
     "name": "stdout",
     "output_type": "stream",
     "text": [
      "['a', 'b', 'c', 'd', 'e', 'A', 'B', 'C', 'D', 'E']\n",
      "[['d', 'B', 'E'], ['c', 'D', 'E'], ['a', 'C', 'E']]\n",
      "[['b', 'B', 'C'], ['a', 'd', 'E'], ['c', 'e', 'B']]\n",
      "[['a', 'e', 'D'], ['A', 'B', 'C'], ['b', 'd', 'B']]\n",
      "[['b', 'B', 'E'], ['a', 'c', 'C'], ['c', 'C', 'E']]\n",
      "[['c', 'C', 'E'], ['a', 'A', 'B'], ['a', 'B', 'E']]\n",
      "[['c', 'd', 'B'], ['c', 'B', 'E'], ['b', 'c', 'D']]\n",
      "[['b', 'A', 'D'], ['b', 'e', 'A'], ['a', 'D', 'E']]\n",
      "[['d', 'B', 'D'], ['b', 'e', 'D'], ['b', 'd', 'B']]\n",
      "[['a', 'd', 'E'], ['b', 'c', 'd'], ['B', 'C', 'E']]\n",
      "[['c', 'B', 'D'], ['b', 'e', 'D'], ['b', 'B', 'E']]\n"
     ]
    }
   ],
   "source": [
    "n = 5\n",
    "k = 3\n",
    "m = 3\n",
    "var,prob = creatproblem(n,k,m)\n",
    "print(var)\n",
    "for i in prob:\n",
    "    print(i)\n",
    "    "
   ]
  },
  {
   "cell_type": "code",
   "execution_count": 7,
   "metadata": {},
   "outputs": [
    {
     "name": "stdout",
     "output_type": "stream",
     "text": [
      "{'a': 0, 'b': 1, 'c': 1, 'd': 1, 'e': 1, 'A': 1, 'B': 0, 'C': 0, 'D': 0, 'E': 0}\n"
     ]
    }
   ],
   "source": [
    "print(random_assign(var,n))"
   ]
  },
  {
   "cell_type": "code",
   "execution_count": null,
   "metadata": {},
   "outputs": [],
   "source": []
  }
 ],
 "metadata": {
  "kernelspec": {
   "display_name": "Python 3",
   "language": "python",
   "name": "python3"
  },
  "language_info": {
   "codemirror_mode": {
    "name": "ipython",
    "version": 3
   },
   "file_extension": ".py",
   "mimetype": "text/x-python",
   "name": "python",
   "nbconvert_exporter": "python",
   "pygments_lexer": "ipython3",
   "version": "3.7.4"
  }
 },
 "nbformat": 4,
 "nbformat_minor": 4
}
