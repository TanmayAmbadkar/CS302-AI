{
 "cells": [
  {
   "cell_type": "code",
   "execution_count": 4,
   "metadata": {},
   "outputs": [],
   "source": [
    "from string import ascii_lowercase\n",
    "import random\n",
    "from itertools import combinations\n",
    "import numpy as np"
   ]
  },
  {
   "cell_type": "code",
   "execution_count": 60,
   "metadata": {},
   "outputs": [],
   "source": [
    "def creatproblem(n,k,m):\n",
    "        positive_var = list(ascii_lowercase)[:n]\n",
    "        negative_var = [var.upper() for var in positive_var]\n",
    "        variables = positive_var + negative_var\n",
    "        problem = []\n",
    "        threshold = 10       \n",
    "        i = 0\n",
    "        comb = list(combinations(variables,k))\n",
    "        \n",
    "        while i<threshold:\n",
    "            c = random.sample(comb,m)\n",
    "            if c not in problem:\n",
    "                problem.append(c)\n",
    "                i += 1\n",
    "        \n",
    "        problems_new = []\n",
    "        for c in problem:\n",
    "            temp = []\n",
    "            temp = [list(sub) for sub in c]\n",
    "            problems_new.append(temp)\n",
    "        return  variables,problems_new \n",
    "     \n",
    "    \n",
    " \n",
    "        "
   ]
  },
  {
   "cell_type": "code",
   "execution_count": 76,
   "metadata": {},
   "outputs": [],
   "source": [
    "def random_assign(variables,n):\n",
    "    litral = list(np.random.choice(2,n))\n",
    "    negation = [abs(i-1) for i in litral]\n",
    "    assign = litral + negation\n",
    "    return dict(zip(variables,assign))"
   ]
  },
  {
   "cell_type": "code",
   "execution_count": 114,
   "metadata": {},
   "outputs": [],
   "source": [
    "def heruistic(problem,assign):\n",
    "    count = 0\n",
    "    for sub in problem:       \n",
    "        encode = [assign[val] for val in sub]\n",
    "        count += any(encode)\n",
    "    return count    \n",
    "    "
   ]
  },
  {
   "cell_type": "code",
   "execution_count": 166,
   "metadata": {},
   "outputs": [],
   "source": [
    "def next_node(current):\n",
    "    key = list(current.keys())\n",
    "    curr_val = list(current.values())\n",
    "    successors_val = []\n",
    "    successors = []\n",
    "    i = 0\n",
    "    while i< len(curr_val):\n",
    "        temp = curr_val.copy()\n",
    "        temp[i] = abs(temp[i]-1)\n",
    "        successors_val.append(temp)                \n",
    "        i += 1\n",
    "    for val in successors_val:\n",
    "        successors.append(dict(zip(key,val)))\n",
    "    \n",
    "    return successors\n",
    "    "
   ]
  },
  {
   "cell_type": "code",
   "execution_count": 175,
   "metadata": {},
   "outputs": [],
   "source": [
    "def select_node(succs,problem):\n",
    "    heruistic_val = []\n",
    "    for i in succs:\n",
    "        heruistic_val.append(heruistic(problem,i))\n",
    "    index = heruistic_val.index(max(heruistic_val))\n",
    "    return succs[index]"
   ]
  },
  {
   "cell_type": "code",
   "execution_count": 184,
   "metadata": {},
   "outputs": [],
   "source": [
    "def check_goal_state(state,problem):\n",
    "    count = 0\n",
    "    for sub in problem:       \n",
    "        encode = [assign[val] for val in sub]\n",
    "        count += any(encode)\n",
    "    return len(problem) == count"
   ]
  },
  {
   "cell_type": "code",
   "execution_count": 208,
   "metadata": {},
   "outputs": [],
   "source": [
    "def hill_climbing(current_state,problem):\n",
    "    if check_goal_state(current_state,problem)==True:\n",
    "        print(current_state)\n",
    "        return \n",
    "    else:\n",
    "        successor = next_node(current_state)\n",
    "        new_node = select_node(successor,problem)\n",
    "        hill_climbing(new_node,problem)"
   ]
  },
  {
   "cell_type": "code",
   "execution_count": 218,
   "metadata": {},
   "outputs": [
    {
     "name": "stdout",
     "output_type": "stream",
     "text": [
      "['a', 'b', 'c', 'A', 'B', 'C']\n",
      "[['b', 'B'], ['a', 'b'], ['b', 'c'], ['c', 'A']]\n",
      "[['a', 'A'], ['b', 'A'], ['a', 'b'], ['a', 'C']]\n",
      "[['b', 'C'], ['A', 'C'], ['a', 'B'], ['c', 'C']]\n",
      "[['a', 'B'], ['b', 'C'], ['b', 'B'], ['c', 'A']]\n",
      "[['a', 'B'], ['A', 'C'], ['a', 'c'], ['B', 'C']]\n",
      "[['b', 'c'], ['c', 'A'], ['A', 'C'], ['a', 'A']]\n",
      "[['a', 'B'], ['c', 'A'], ['c', 'C'], ['a', 'b']]\n",
      "[['b', 'C'], ['A', 'B'], ['a', 'B'], ['c', 'B']]\n",
      "[['c', 'B'], ['B', 'C'], ['a', 'c'], ['b', 'C']]\n",
      "[['A', 'B'], ['a', 'C'], ['a', 'A'], ['B', 'C']]\n"
     ]
    }
   ],
   "source": [
    "n = 3\n",
    "k = 2\n",
    "m = 4\n",
    "var,prob = creatproblem(n,k,m)\n",
    "print(var)\n",
    "for i in prob:\n",
    "    print(i)\n",
    "    "
   ]
  },
  {
   "cell_type": "code",
   "execution_count": 220,
   "metadata": {},
   "outputs": [
    {
     "name": "stdout",
     "output_type": "stream",
     "text": [
      "{'a': 1, 'b': 1, 'c': 0, 'A': 0, 'B': 0, 'C': 1}\n"
     ]
    }
   ],
   "source": [
    "start_state = random_assign(var,n)\n",
    "hill_climbing(start_state,prob[6])"
   ]
  },
  {
   "cell_type": "code",
   "execution_count": null,
   "metadata": {},
   "outputs": [],
   "source": []
  }
 ],
 "metadata": {
  "kernelspec": {
   "display_name": "Python 3",
   "language": "python",
   "name": "python3"
  },
  "language_info": {
   "codemirror_mode": {
    "name": "ipython",
    "version": 3
   },
   "file_extension": ".py",
   "mimetype": "text/x-python",
   "name": "python",
   "nbconvert_exporter": "python",
   "pygments_lexer": "ipython3",
   "version": "3.7.4"
  }
 },
 "nbformat": 4,
 "nbformat_minor": 4
}
